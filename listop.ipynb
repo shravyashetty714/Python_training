{
  "nbformat": 4,
  "nbformat_minor": 0,
  "metadata": {
    "colab": {
      "provenance": [],
      "authorship_tag": "ABX9TyNBjSh2+Oni+iOpfq+aS+IU",
      "include_colab_link": true
    },
    "kernelspec": {
      "name": "python3",
      "display_name": "Python 3"
    },
    "language_info": {
      "name": "python"
    }
  },
  "cells": [
    {
      "cell_type": "markdown",
      "metadata": {
        "id": "view-in-github",
        "colab_type": "text"
      },
      "source": [
        "<a href=\"https://colab.research.google.com/github/shravyashetty714/Python_training/blob/main/listop.ipynb\" target=\"_parent\"><img src=\"https://colab.research.google.com/assets/colab-badge.svg\" alt=\"Open In Colab\"/></a>"
      ]
    },
    {
      "cell_type": "code",
      "execution_count": null,
      "metadata": {
        "colab": {
          "base_uri": "https://localhost:8080/"
        },
        "id": "G9dSyDmjk7L2",
        "outputId": "420c9e51-2425-46ea-c5df-f356cc90ac56"
      },
      "outputs": [
        {
          "output_type": "stream",
          "name": "stdout",
          "text": [
            "6\n"
          ]
        }
      ],
      "source": [
        "l=[3,4,6,5]\n",
        "max=l[0]\n",
        "for i in range(len(l)):\n",
        "  if l[i]>max:\n",
        "    max=l[i]\n",
        "print(max)"
      ]
    },
    {
      "cell_type": "code",
      "source": [
        "l=[3,4,6,5]\n",
        "min=9\n",
        "for i in range(len(l)):\n",
        "  if l[i]<min:\n",
        "    min=l[i]\n",
        "print(min)"
      ],
      "metadata": {
        "colab": {
          "base_uri": "https://localhost:8080/"
        },
        "id": "d5kiHUgNlewc",
        "outputId": "7a147de7-e6ea-4c97-a919-6d782b6e8864"
      },
      "execution_count": null,
      "outputs": [
        {
          "output_type": "stream",
          "name": "stdout",
          "text": [
            "3\n"
          ]
        }
      ]
    },
    {
      "cell_type": "code",
      "source": [
        "l=[3,4,6,5]\n",
        "sum=0\n",
        "for i in range(len(l)):\n",
        "  sum+=l[i]\n",
        "print(sum)"
      ],
      "metadata": {
        "colab": {
          "base_uri": "https://localhost:8080/"
        },
        "id": "3GRmgTwul2vd",
        "outputId": "a49414da-af39-4d0d-9a79-5d96bb55e5cd"
      },
      "execution_count": null,
      "outputs": [
        {
          "output_type": "stream",
          "name": "stdout",
          "text": [
            "18\n"
          ]
        }
      ]
    },
    {
      "cell_type": "code",
      "source": [
        "l=[2,2,4,5]\n",
        "pro=1\n",
        "for i in range(len(l)):\n",
        "  pro*=l[i]\n",
        "print(pro)"
      ],
      "metadata": {
        "colab": {
          "base_uri": "https://localhost:8080/"
        },
        "id": "wtg5s6OCmNYe",
        "outputId": "e7b0568f-76e3-43a2-c0d9-896f357e0ff5"
      },
      "execution_count": null,
      "outputs": [
        {
          "output_type": "stream",
          "name": "stdout",
          "text": [
            "80\n"
          ]
        }
      ]
    },
    {
      "cell_type": "code",
      "source": [
        "l=[2,2,4,5]\n",
        "n=len(l)\n",
        "for i in range(len(l)):\n",
        "  l[i]=l[i]**2\n",
        "print(l)"
      ],
      "metadata": {
        "colab": {
          "base_uri": "https://localhost:8080/"
        },
        "id": "Q5Zo5vlomjae",
        "outputId": "01bac682-8e0e-47ba-d410-5675edbc9348"
      },
      "execution_count": null,
      "outputs": [
        {
          "output_type": "stream",
          "name": "stdout",
          "text": [
            "[4, 4, 16, 25]\n"
          ]
        }
      ]
    },
    {
      "cell_type": "code",
      "source": [
        "l=[3,4,6,5]\n",
        "l.index(6)"
      ],
      "metadata": {
        "id": "l-staQcTnZVd",
        "colab": {
          "base_uri": "https://localhost:8080/"
        },
        "outputId": "afc1790b-37b5-4df5-cd68-9ad6e2d1b6f9"
      },
      "execution_count": null,
      "outputs": [
        {
          "output_type": "execute_result",
          "data": {
            "text/plain": [
              "2"
            ]
          },
          "metadata": {},
          "execution_count": 15
        }
      ]
    },
    {
      "cell_type": "code",
      "source": [
        "l=[3,4,6,5]\n",
        "k=6\n",
        "for i in range(len(l)):\n",
        "  if l[i]==k:\n",
        "    print(l.index(k))"
      ],
      "metadata": {
        "colab": {
          "base_uri": "https://localhost:8080/"
        },
        "id": "fam98WeXpik_",
        "outputId": "892be278-caa0-4362-c7cc-63a27166338a"
      },
      "execution_count": null,
      "outputs": [
        {
          "output_type": "stream",
          "name": "stdout",
          "text": [
            "2\n"
          ]
        }
      ]
    },
    {
      "cell_type": "code",
      "source": [
        "l=[4,5,7,3,8,9]\n",
        "k=8\n",
        "for i in range(len(l)):\n",
        "  if l[i]==k:\n",
        "    print(l.index(k))"
      ],
      "metadata": {
        "colab": {
          "base_uri": "https://localhost:8080/"
        },
        "id": "zFuTagVLrHen",
        "outputId": "4a273ccd-4aee-4b6b-e898-3a690ec432e3"
      },
      "execution_count": null,
      "outputs": [
        {
          "output_type": "stream",
          "name": "stdout",
          "text": [
            "4\n"
          ]
        }
      ]
    },
    {
      "cell_type": "code",
      "source": [
        "l=[4,5,7,3,8,9]\n",
        "k=8\n",
        "for i in range(len(l)):\n",
        "  if l[i]==k:\n",
        "    print(i)"
      ],
      "metadata": {
        "colab": {
          "base_uri": "https://localhost:8080/"
        },
        "id": "X-gDcIn7rS1o",
        "outputId": "643746a2-fc50-4208-bd79-e6c6f8e0a02e"
      },
      "execution_count": null,
      "outputs": [
        {
          "output_type": "stream",
          "name": "stdout",
          "text": [
            "4\n"
          ]
        }
      ]
    },
    {
      "cell_type": "code",
      "source": [
        "l=[i for i in range(100)]\n",
        "k=8\n",
        "for i in range(len(l)):\n",
        "  if l[i]==k:\n",
        "    print(l.index(k))"
      ],
      "metadata": {
        "colab": {
          "base_uri": "https://localhost:8080/"
        },
        "id": "aZsf7uH0sWAs",
        "outputId": "57d0240d-e187-4f09-e9e0-e8d68428be5f"
      },
      "execution_count": null,
      "outputs": [
        {
          "output_type": "stream",
          "name": "stdout",
          "text": [
            "8\n"
          ]
        }
      ]
    },
    {
      "cell_type": "code",
      "source": [
        "k=8\n",
        "l=[i for i in range(100)]\n",
        "if k in l:\n",
        "    print(l.index(k))"
      ],
      "metadata": {
        "colab": {
          "base_uri": "https://localhost:8080/"
        },
        "id": "C7owV3-nyxRv",
        "outputId": "cc0c81b0-2340-4d94-f5d1-edad5e65f125"
      },
      "execution_count": null,
      "outputs": [
        {
          "output_type": "stream",
          "name": "stdout",
          "text": [
            "8\n"
          ]
        }
      ]
    },
    {
      "cell_type": "code",
      "source": [
        "even=0\n",
        "odd=0\n",
        "for i in range(0,100):\n",
        "  if i%2==0:\n",
        "    even+=1\n",
        "  else:\n",
        "    odd+=1\n",
        "print(even)\n",
        "print(odd)"
      ],
      "metadata": {
        "colab": {
          "base_uri": "https://localhost:8080/"
        },
        "id": "vNVTr9OBzG9a",
        "outputId": "ebd0349c-8dd9-47a9-b52b-ec240483b18e"
      },
      "execution_count": null,
      "outputs": [
        {
          "output_type": "stream",
          "name": "stdout",
          "text": [
            "50\n",
            "50\n"
          ]
        }
      ]
    },
    {
      "cell_type": "code",
      "source": [
        "a=[4,6,7,8,4,5,6,8]\n",
        "n=len(a)\n",
        "for i in range(n//2):\n",
        "  a[i],a[n-i-1]=a[n-i-1],a[i]\n",
        "print(a)"
      ],
      "metadata": {
        "colab": {
          "base_uri": "https://localhost:8080/"
        },
        "id": "Ll1Q1B5N--rd",
        "outputId": "5a094279-a1b3-4547-ca98-686227e522de"
      },
      "execution_count": null,
      "outputs": [
        {
          "output_type": "stream",
          "name": "stdout",
          "text": [
            "[8, 6, 5, 4, 8, 7, 6, 4]\n"
          ]
        }
      ]
    },
    {
      "cell_type": "code",
      "source": [
        "a = [5, 8, 12, 15, 20]\n",
        "a = [bin(num)[2:] for num in a]\n",
        "print(a)"
      ],
      "metadata": {
        "id": "gjnCBGW5CMzN",
        "colab": {
          "base_uri": "https://localhost:8080/"
        },
        "outputId": "6584ab69-40b5-4d0e-f1d1-86fc9e724032"
      },
      "execution_count": null,
      "outputs": [
        {
          "output_type": "stream",
          "name": "stdout",
          "text": [
            "['101', '1000', '1100', '1111', '10100']\n"
          ]
        }
      ]
    },
    {
      "cell_type": "code",
      "source": [
        "def db(n):\n",
        "  a=1\n",
        "  sum=0\n",
        "  while n>0:\n",
        "    sum=sum+(n%2)*a\n",
        "    a=a*10\n",
        "    n=n//2\n",
        "  return sum\n",
        "a = [5, 8, 12, 15, 20]\n",
        "l = [db(num) for num in a]\n",
        "print(l)"
      ],
      "metadata": {
        "id": "nElWK2APEb-V",
        "colab": {
          "base_uri": "https://localhost:8080/"
        },
        "outputId": "669a62a9-4ed7-4d2e-81c8-6ee76753ca27"
      },
      "execution_count": null,
      "outputs": [
        {
          "output_type": "stream",
          "name": "stdout",
          "text": [
            "[101, 1000, 1100, 1111, 10100]\n"
          ]
        }
      ]
    },
    {
      "cell_type": "code",
      "source": [
        "a=[4,5,6,7,3,8]\n",
        "r=[]\n",
        "q=[]\n",
        "for i in a:\n",
        "  q.append(i//3)\n",
        "  r.append(i%3)\n",
        "print(q,r)"
      ],
      "metadata": {
        "colab": {
          "base_uri": "https://localhost:8080/"
        },
        "id": "YXa8t24DFYox",
        "outputId": "8397ac57-0200-464a-a830-516cb7199e1c"
      },
      "execution_count": null,
      "outputs": [
        {
          "output_type": "stream",
          "name": "stdout",
          "text": [
            "[1, 1, 2, 2, 1, 2] [1, 2, 0, 1, 0, 2]\n"
          ]
        }
      ]
    },
    {
      "cell_type": "code",
      "source": [
        "a = [3, 6, 8, 5, 9, 2]\n",
        "ei = []\n",
        "oi = []\n",
        "for i in range(len(a)):\n",
        "    if i % 2 == 0:\n",
        "        ei.append(a[i])\n",
        "    else:\n",
        "        oi.append(a[i])\n",
        "print(ei,oi)"
      ],
      "metadata": {
        "colab": {
          "base_uri": "https://localhost:8080/"
        },
        "id": "Cc6JgpbHIzlY",
        "outputId": "330db4cd-ad26-4e0c-c989-69fe66c2dd87"
      },
      "execution_count": null,
      "outputs": [
        {
          "output_type": "stream",
          "name": "stdout",
          "text": [
            "[3, 8, 9] [6, 5, 2]\n"
          ]
        }
      ]
    },
    {
      "cell_type": "code",
      "source": [
        "l = [1,2,3,4,5]\n",
        "n = 2\n",
        "l = l[n:]+l[:n]\n",
        "print(l)\n"
      ],
      "metadata": {
        "colab": {
          "base_uri": "https://localhost:8080/"
        },
        "id": "mKQlekgkJ7vW",
        "outputId": "131d8dc7-9038-4252-cc32-e51c33ccd0b3"
      },
      "execution_count": null,
      "outputs": [
        {
          "output_type": "stream",
          "name": "stdout",
          "text": [
            "[3, 4, 5, 1, 2]\n"
          ]
        }
      ]
    },
    {
      "cell_type": "code",
      "source": [
        "l = [1,2,3,4,5]\n",
        "n = 2\n",
        "l = l[-n:] + l[:-n]\n",
        "print(l)"
      ],
      "metadata": {
        "colab": {
          "base_uri": "https://localhost:8080/"
        },
        "id": "bPSVRD6QPZPb",
        "outputId": "13c22f43-12e8-4d81-d321-41ffea3e7033"
      },
      "execution_count": null,
      "outputs": [
        {
          "output_type": "stream",
          "name": "stdout",
          "text": [
            "[4, 5, 1, 2, 3]\n"
          ]
        }
      ]
    },
    {
      "cell_type": "code",
      "source": [
        "l1 = [1,2,5,8,6]\n",
        "l2 = [1,3,87,14,9]\n",
        "l3=[]\n",
        "for i in range(len(l1)):\n",
        "  l3.append(l1[i])\n",
        "  l3.append(l2[i])\n",
        "l3.sort()\n",
        "print(l3)"
      ],
      "metadata": {
        "colab": {
          "base_uri": "https://localhost:8080/"
        },
        "id": "IKiOEPLISXh4",
        "outputId": "3b545ed8-27e8-42ae-d423-7cfed58e802d"
      },
      "execution_count": null,
      "outputs": [
        {
          "output_type": "stream",
          "name": "stdout",
          "text": [
            "[1, 1, 2, 3, 5, 6, 8, 9, 14, 87]\n"
          ]
        }
      ]
    },
    {
      "cell_type": "code",
      "source": [
        "a = [1, 2, 3, 4, 5, 6, 7, 8, 9, 10]\n",
        "a.sort()\n",
        "min = a[2]\n",
        "max = a[-3]\n",
        "print(min)\n",
        "print(max)"
      ],
      "metadata": {
        "colab": {
          "base_uri": "https://localhost:8080/"
        },
        "id": "b1C38OafTt1X",
        "outputId": "8da92fc8-b709-4527-c38e-4dff4ff7233c"
      },
      "execution_count": null,
      "outputs": [
        {
          "output_type": "stream",
          "name": "stdout",
          "text": [
            "3\n",
            "8\n"
          ]
        }
      ]
    },
    {
      "cell_type": "code",
      "source": [
        "#3rd min and max number\n",
        "n = [1, 2, 3, 4, 5, 6, 7, 8, 9, 10]\n",
        "if len(n) >= 3:\n",
        "    min = sorted(n)[2]\n",
        "    max = sorted(n)[-3]\n",
        "else:\n",
        "    min = -1\n",
        "    max = -1\n",
        "print(min)\n",
        "print(max)\n"
      ],
      "metadata": {
        "colab": {
          "base_uri": "https://localhost:8080/"
        },
        "id": "QAEjbL7Sm3xr",
        "outputId": "f3db50d5-cd00-4a5f-947f-370e8d134e1d"
      },
      "execution_count": null,
      "outputs": [
        {
          "output_type": "stream",
          "name": "stdout",
          "text": [
            "3\n",
            "8\n"
          ]
        }
      ]
    },
    {
      "cell_type": "code",
      "source": [
        "n= [5, 9, 12, 16, 37, 2, 6, 11, 13, 19]\n",
        "m, m1, m2 = l[0],l[1],l[2]\n",
        "for i in n:\n",
        "    if i > m:\n",
        "        m2 = m1\n",
        "        m1 = m\n",
        "        m = i\n",
        "    elif i > m1:\n",
        "        m2 = m1\n",
        "        m1 = i\n",
        "    elif i > m2:\n",
        "        m2 = i\n",
        "print(m, m1, m2)"
      ],
      "metadata": {
        "colab": {
          "base_uri": "https://localhost:8080/"
        },
        "id": "kxSU3u6vsMYJ",
        "outputId": "4d0bf772-114a-4847-f919-ded3013139b6"
      },
      "execution_count": null,
      "outputs": [
        {
          "output_type": "stream",
          "name": "stdout",
          "text": [
            "37 19 16\n"
          ]
        }
      ]
    },
    {
      "cell_type": "code",
      "source": [
        "\n",
        "n = [5, 9, 12, 16, 37, 2, 6, 11, 13, 19]\n",
        "\n",
        "m, m1, m2 = float('inf'), float('inf'), float('inf')\n",
        "\n",
        "for i in n:\n",
        "    if i < m:\n",
        "        m2 = m1\n",
        "        m1 = m\n",
        "        m = i\n",
        "    elif i < m1:\n",
        "        m2 = m1\n",
        "        m1 = i\n",
        "    elif i < m2:\n",
        "        m2 = i\n",
        "\n",
        "print(m, m1, m2)"
      ],
      "metadata": {
        "colab": {
          "base_uri": "https://localhost:8080/"
        },
        "id": "IKkv-SQTtNU5",
        "outputId": "bce4f80b-e529-4313-83f3-fa128fb36a37"
      },
      "execution_count": null,
      "outputs": [
        {
          "output_type": "stream",
          "name": "stdout",
          "text": [
            "2 5 6\n"
          ]
        }
      ]
    },
    {
      "cell_type": "code",
      "source": [
        "l=[5,6,13,17,21,1,2,14,18,19,3,17]\n",
        "n=int(input())\n",
        "k=0\n",
        "j=1\n",
        "a=[l[n]]\n",
        "for i in range(len(l)):\n",
        "    if i==n:\n",
        "        continue\n",
        "    if l[i]<l[n]:\n",
        "        a.insert(k,l[i])\n",
        "        k+=1\n",
        "        j+=1\n",
        "    else:\n",
        "        a.insert(j,l[i])\n",
        "    print(a)\n"
      ],
      "metadata": {
        "colab": {
          "base_uri": "https://localhost:8080/"
        },
        "id": "_VPz68cD4vdG",
        "outputId": "4d98dac4-8a7b-4d54-db4e-c8feaa0a2021"
      },
      "execution_count": null,
      "outputs": [
        {
          "output_type": "stream",
          "name": "stdout",
          "text": [
            "5\n",
            "[1, 5]\n",
            "[1, 6, 5]\n",
            "[1, 13, 6, 5]\n",
            "[1, 17, 13, 6, 5]\n",
            "[1, 21, 17, 13, 6, 5]\n",
            "[1, 2, 21, 17, 13, 6, 5]\n",
            "[1, 14, 2, 21, 17, 13, 6, 5]\n",
            "[1, 18, 14, 2, 21, 17, 13, 6, 5]\n",
            "[1, 19, 18, 14, 2, 21, 17, 13, 6, 5]\n",
            "[1, 3, 19, 18, 14, 2, 21, 17, 13, 6, 5]\n",
            "[1, 17, 3, 19, 18, 14, 2, 21, 17, 13, 6, 5]\n"
          ]
        }
      ]
    }
  ]
}