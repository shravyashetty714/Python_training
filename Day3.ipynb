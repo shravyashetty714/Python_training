{
  "nbformat": 4,
  "nbformat_minor": 0,
  "metadata": {
    "colab": {
      "provenance": [],
      "authorship_tag": "ABX9TyNH7VR0H9KFdg2EsN/awpXM",
      "include_colab_link": true
    },
    "kernelspec": {
      "name": "python3",
      "display_name": "Python 3"
    },
    "language_info": {
      "name": "python"
    }
  },
  "cells": [
    {
      "cell_type": "markdown",
      "metadata": {
        "id": "view-in-github",
        "colab_type": "text"
      },
      "source": [
        "<a href=\"https://colab.research.google.com/github/shravyashetty714/Python_training/blob/main/Day3.ipynb\" target=\"_parent\"><img src=\"https://colab.research.google.com/assets/colab-badge.svg\" alt=\"Open In Colab\"/></a>"
      ]
    },
    {
      "cell_type": "code",
      "execution_count": null,
      "metadata": {
        "colab": {
          "base_uri": "https://localhost:8080/"
        },
        "id": "erhEb9e9SKTG",
        "outputId": "55b9cb18-9bb8-46e7-c583-36c778ddf90e"
      },
      "outputs": [
        {
          "output_type": "stream",
          "name": "stdout",
          "text": [
            "enter a number:12134\n",
            "enter a number:77\n",
            "1217734\n"
          ]
        }
      ],
      "source": [
        "#generate number 1217734\n",
        "a=int(input(\"enter a number:\"))\n",
        "b=int(input(\"enter a number:\"))\n",
        "def count(x):\n",
        "  c=0\n",
        "  while x>0:\n",
        "    c+=1\n",
        "    x//=10\n",
        "  return c\n",
        "def inm(a,b):\n",
        "  ca=count(a)\n",
        "  cb=count(b)\n",
        "  if cb>ca:\n",
        "    return b\n",
        "  return (((a//(10**(ca//2)))*(10**cb)+b)*10**(ca//2))+a%(10**(ca//2))\n",
        "print(inm(a,b))"
      ]
    },
    {
      "cell_type": "code",
      "source": [
        "#generate number 12775\n",
        "a=int(input(\"enter a number:\"))\n",
        "b=int(input(\"enter a number:\"))\n",
        "def count(x):\n",
        "  c=0\n",
        "  while x>0:\n",
        "    c+=1\n",
        "    x//=10\n",
        "  return c\n",
        "def inm(a,b):\n",
        "  ca=count(a)\n",
        "  cb=count(b)\n",
        "  if cb>ca:\n",
        "    return b\n",
        "  return ((a//(10*10**(ca//2)))*(10*10**cb)+(b*10))+a%10\n",
        "print(inm(a,b))"
      ],
      "metadata": {
        "colab": {
          "base_uri": "https://localhost:8080/"
        },
        "id": "Ek1L66-OmZWo",
        "outputId": "1a1a0979-1bc6-4e78-8f07-2d147f989796"
      },
      "execution_count": null,
      "outputs": [
        {
          "output_type": "stream",
          "name": "stdout",
          "text": [
            "enter a number:12345\n",
            "enter a number:77\n",
            "12775\n"
          ]
        }
      ]
    },
    {
      "cell_type": "code",
      "source": [
        "#max digit in given number\n",
        "def max_digit(n):\n",
        "  max=0\n",
        "  c=0\n",
        "  while n>0:\n",
        "    c+=1\n",
        "    last=n%10\n",
        "    if max < last:\n",
        "      max=last\n",
        "    n=n//10\n",
        "  return max\n",
        "\n",
        "\n",
        "print(max_digit(14321))\n"
      ],
      "metadata": {
        "colab": {
          "base_uri": "https://localhost:8080/"
        },
        "id": "DhDrQ_6RsR6O",
        "outputId": "715a80ca-d08e-4088-a46c-6edafe8f4a91"
      },
      "execution_count": null,
      "outputs": [
        {
          "output_type": "stream",
          "name": "stdout",
          "text": [
            "4\n"
          ]
        }
      ]
    },
    {
      "cell_type": "code",
      "source": [
        "#minimum degit in given number\n",
        "def min_digit(n):\n",
        "  min=9\n",
        "  c=0\n",
        "  while n>0:\n",
        "    c+=1\n",
        "    last=n%10\n",
        "    if min > last:\n",
        "      min=last\n",
        "    n=n//10  # this 'n' has to be in while block\n",
        "  return min\n",
        "print(min_digit(78956))"
      ],
      "metadata": {
        "colab": {
          "base_uri": "https://localhost:8080/"
        },
        "id": "RM26DMXXTMUh",
        "outputId": "9ba42890-b63c-4194-9c3e-b6bcb5489bfe"
      },
      "execution_count": null,
      "outputs": [
        {
          "output_type": "stream",
          "name": "stdout",
          "text": [
            "5\n"
          ]
        }
      ]
    },
    {
      "cell_type": "code",
      "source": [
        "#addition of digits\n",
        "n = int(input(\"Enter a number: \"))\n",
        "def add(n):\n",
        "  s=0\n",
        "  while n>0:\n",
        "    s+=n%10\n",
        "    n//=10\n",
        "  print(s)\n",
        "add(n)"
      ],
      "metadata": {
        "colab": {
          "base_uri": "https://localhost:8080/"
        },
        "id": "pU9A4gXCV8bH",
        "outputId": "851a8a46-42ee-4b71-cb56-f4c8689593ab"
      },
      "execution_count": null,
      "outputs": [
        {
          "output_type": "stream",
          "name": "stdout",
          "text": [
            "Enter a number: 357921\n",
            "27\n"
          ]
        }
      ]
    },
    {
      "cell_type": "code",
      "source": [
        "#encode number\n",
        "s = int(input(\"Enter a number: \"))\n",
        "\n",
        "def encode(n):\n",
        "    s = 0\n",
        "    p = 1\n",
        "    while n > 0:\n",
        "        d = n % 10\n",
        "        if d % 2 == 0:\n",
        "            s += 0 * p\n",
        "        else:\n",
        "            s += 1 * p\n",
        "        p *= 10\n",
        "        n //= 10\n",
        "    return s\n",
        "\n",
        "print(encode(s))"
      ],
      "metadata": {
        "colab": {
          "base_uri": "https://localhost:8080/"
        },
        "id": "x4ZZcUdjelgg",
        "outputId": "09345989-09d9-49d0-9c61-a2b1b4a6d13e"
      },
      "execution_count": null,
      "outputs": [
        {
          "output_type": "stream",
          "name": "stdout",
          "text": [
            "Enter a number: 357921\n",
            "111101\n"
          ]
        }
      ]
    },
    {
      "cell_type": "code",
      "source": [
        "#sum of digits\n",
        "n = int(input(\"Enter a number: \"))\n",
        "\n",
        "def sm(n):\n",
        "    s = 0\n",
        "    while n > 0:\n",
        "        s += n % 10\n",
        "        n //= 10\n",
        "    return s\n",
        "\n",
        "print(sm(n))\n"
      ],
      "metadata": {
        "colab": {
          "base_uri": "https://localhost:8080/"
        },
        "id": "R4mjLs3HepI6",
        "outputId": "423dd481-15e1-4b74-a916-dedb6290b5b1"
      },
      "execution_count": null,
      "outputs": [
        {
          "output_type": "stream",
          "name": "stdout",
          "text": [
            "Enter a number: 12345\n",
            "15\n"
          ]
        }
      ]
    },
    {
      "cell_type": "code",
      "source": [
        "#factorial of a given number\n",
        "def fact(n):\n",
        "    if n < 0:\n",
        "        return 1\n",
        "    s = 1\n",
        "    while n > 0:\n",
        "        s *= n\n",
        "        n -= 1\n",
        "    return s\n",
        "\n",
        "n = int(input(\"Enter a number: \"))\n",
        "print(fact(n))\n"
      ],
      "metadata": {
        "colab": {
          "base_uri": "https://localhost:8080/"
        },
        "id": "vNZyIS5nlnFp",
        "outputId": "b4c1c7af-d143-4bbf-9b09-9541846ebe4d"
      },
      "execution_count": null,
      "outputs": [
        {
          "output_type": "stream",
          "name": "stdout",
          "text": [
            "Enter a number: 5\n",
            "120\n"
          ]
        }
      ]
    },
    {
      "cell_type": "code",
      "source": [
        "n = int(input(\"Enter a number: \"))\n",
        "def x(n):\n",
        "  while 1:\n",
        "    s=0\n",
        "    while n>0:\n",
        "      s+=n%10\n",
        "      n//=10\n",
        "    if s<10:\n",
        "      return s\n",
        "    n=s\n",
        "print(x(n))"
      ],
      "metadata": {
        "colab": {
          "base_uri": "https://localhost:8080/"
        },
        "id": "U62esMC4pdQR",
        "outputId": "08368250-b636-409f-a1e8-bc187386fd10"
      },
      "execution_count": null,
      "outputs": [
        {
          "output_type": "stream",
          "name": "stdout",
          "text": [
            "Enter a number: 46365872738\n",
            "5\n"
          ]
        }
      ]
    },
    {
      "cell_type": "code",
      "source": [
        "#reverse the given nuumber\n",
        "n = 3645547982\n",
        "rev = 0\n",
        "while(n > 0):\n",
        "    a = n % 10\n",
        "    rev = rev * 10 + a\n",
        "    n = n // 10\n",
        "print(rev)"
      ],
      "metadata": {
        "colab": {
          "base_uri": "https://localhost:8080/"
        },
        "id": "ErOsYlqsqCVe",
        "outputId": "4310e0bd-0f55-47d6-b7d6-2da3ef7b6494"
      },
      "execution_count": null,
      "outputs": [
        {
          "output_type": "stream",
          "name": "stdout",
          "text": [
            "2897455463\n"
          ]
        }
      ]
    }
  ]
}