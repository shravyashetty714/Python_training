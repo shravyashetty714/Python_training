{
  "nbformat": 4,
  "nbformat_minor": 0,
  "metadata": {
    "colab": {
      "provenance": [],
      "authorship_tag": "ABX9TyPICIQ1zFm1OYSi/8yygEgB",
      "include_colab_link": true
    },
    "kernelspec": {
      "name": "python3",
      "display_name": "Python 3"
    },
    "language_info": {
      "name": "python"
    }
  },
  "cells": [
    {
      "cell_type": "markdown",
      "metadata": {
        "id": "view-in-github",
        "colab_type": "text"
      },
      "source": [
        "<a href=\"https://colab.research.google.com/github/shravyashetty714/Python_training/blob/main/Day2.ipynb\" target=\"_parent\"><img src=\"https://colab.research.google.com/assets/colab-badge.svg\" alt=\"Open In Colab\"/></a>"
      ]
    },
    {
      "cell_type": "code",
      "execution_count": null,
      "metadata": {
        "id": "PPwoIKlEvyoG",
        "colab": {
          "base_uri": "https://localhost:8080/"
        },
        "outputId": "3cc4802f-6eda-4204-efe5-5b8dcf5030cc"
      },
      "outputs": [
        {
          "output_type": "stream",
          "name": "stdout",
          "text": [
            "Enter Customer ID: 2\n",
            "Enter Name: shraya\n",
            "Units Consumed: 350\n",
            "Total Amount:  603.75\n"
          ]
        }
      ],
      "source": [
        "#2.write a prgm to calculate the electricity bill of a customer based on the number of units consumed and the applicable charge per unit---\n",
        "c_id=int(input(\"Enter Customer ID: \"))\n",
        "name=input(\"Enter Name: \")\n",
        "unit_consumed=int(input(\"Units Consumed: \"))\n",
        "\n",
        "def more_than_300():\n",
        "    if(amt>300):\n",
        "        t_amt=amt+(amt/100)*15\n",
        "        print(\"Total Amount: \",t_amt)\n",
        "    elif(amt<=100):\n",
        "        t_amt=100\n",
        "        print(\"Total Amount: \",t_amt)\n",
        "    else:\n",
        "        print(\"Total Amount: \",amt)\n",
        "\n",
        "\n",
        "if(unit_consumed < 200):\n",
        "    amt=1.2*unit_consumed\n",
        "    more_than_300()\n",
        "elif(199 < unit_consumed < 400):\n",
        "    amt=1.5*unit_consumed\n",
        "    more_than_300()\n",
        "elif(399 < unit_consumed < 600):\n",
        "    amt=1.8*unit_consumed\n",
        "    more_than_300()\n",
        "elif(unit_consumed >= 600):\n",
        "    amt=2*unit_consumed\n",
        "    more_than_300()"
      ]
    },
    {
      "cell_type": "code",
      "source": [
        "#3.write the prgm to read the temperature in centigrade---\n",
        "temp=int(input(\"Enter the temperature in centigrade: \"))\n",
        "\n",
        "if(temp<0):\n",
        "    print(\"Freezing weather\")\n",
        "elif(0<=temp<10):\n",
        "    print(\"Very cold weather\")\n",
        "elif(10<=temp<20):\n",
        "    print(\"Cold weather\")\n",
        "elif(20<=temp<30):\n",
        "    print(\"Normal\")\n",
        "elif(30<=temp<40):\n",
        "    print(\"It's hot\")"
      ],
      "metadata": {
        "colab": {
          "base_uri": "https://localhost:8080/"
        },
        "id": "JhW8Q4IxL2wI",
        "outputId": "54decb9a-4274-4fa5-a773-6ad044835661"
      },
      "execution_count": null,
      "outputs": [
        {
          "name": "stdout",
          "output_type": "stream",
          "text": [
            "Enter the temperature in centigrade: 67\n"
          ]
        }
      ]
    },
    {
      "cell_type": "code",
      "source": [
        "#4.write a prgm to check if a triangle can be formed----\n",
        "a=float(input(\"Enter the angle a: \"))\n",
        "b=float(input(\"Enter the angle b: \"))\n",
        "c=float(input(\"Enter the angle c: \"))\n",
        "\n",
        "sum=a+b+c\n",
        "\n",
        "if(sum==180.00):\n",
        "    print(\"The triangle can be formed\")\n",
        "else:\n",
        "    print(\"The triangle cannot be formed\")"
      ],
      "metadata": {
        "colab": {
          "base_uri": "https://localhost:8080/"
        },
        "id": "VvrWmGS_Mb8w",
        "outputId": "6c67d091-3612-4293-a978-c439e119e927"
      },
      "execution_count": null,
      "outputs": [
        {
          "output_type": "stream",
          "name": "stdout",
          "text": [
            "Enter the angle a: 90\n",
            "Enter the angle b: 45\n",
            "Enter the angle c: 30\n",
            "The triangle cannot be formed\n"
          ]
        }
      ]
    },
    {
      "cell_type": "code",
      "source": [
        "#5.prgm to find it is leap year or not--\n",
        "year=int(input(\"Enter the year to check: \"))\n",
        "if((year%4==0 and year%100!=0)or(year%400==0)):\n",
        "    print(\"Leap Year\")\n",
        "else:\n",
        "    print(\"Not a Leap Year\")\n",
        "\n",
        "#loops 1. to print multiples of 2 until n numbers\n",
        "n=int(input(\"Enter n value: \"))\n",
        "for i in range(0,n+1,2):\n",
        "    print(i)"
      ],
      "metadata": {
        "colab": {
          "base_uri": "https://localhost:8080/"
        },
        "id": "bnwp_Ni0M9SK",
        "outputId": "2cc6cdf4-1dc3-429e-e59f-b51d8bca84ff"
      },
      "execution_count": null,
      "outputs": [
        {
          "output_type": "stream",
          "name": "stdout",
          "text": [
            "Enter the year to check: 2024\n",
            "Leap Year\n",
            "Enter n value: 4\n",
            "0\n",
            "2\n",
            "4\n"
          ]
        }
      ]
    },
    {
      "cell_type": "code",
      "source": [
        "#loops 2. prgm to find factorial of a number\n",
        "n = int (input (\"Enter a number: \"))\n",
        "fact = 1\n",
        "if n >= 1:\n",
        "    for i in range (1, n+1):\n",
        "        fact=fact *i\n",
        "print(\"Factorial of the given number is: \", fact)"
      ],
      "metadata": {
        "colab": {
          "base_uri": "https://localhost:8080/"
        },
        "id": "OQTUdsFZNKWI",
        "outputId": "b96e8a8c-acc1-4620-a45d-e6f5b80d04ff"
      },
      "execution_count": null,
      "outputs": [
        {
          "output_type": "stream",
          "name": "stdout",
          "text": [
            "Enter a number: 5\n",
            "Factorial of the given number is:  120\n"
          ]
        }
      ]
    },
    {
      "cell_type": "code",
      "source": [
        "#loops 3. python program to get the series 1,5,2,10,3,15\n",
        "n=int(input(\"Enter n value: \"))\n",
        "for i in range(1,n+1):\n",
        "    print(i,end=\",\")\n",
        "    print(i*5,end=\",\")\n",
        "print(\"...\")\n"
      ],
      "metadata": {
        "colab": {
          "base_uri": "https://localhost:8080/"
        },
        "id": "6Z8aSmt_NOkM",
        "outputId": "49fe5f2d-facc-4ab4-ac86-d98ce11e0eaf"
      },
      "execution_count": null,
      "outputs": [
        {
          "output_type": "stream",
          "name": "stdout",
          "text": [
            "Enter n value: 5\n",
            "1,5,2,10,3,15,4,20,5,25,...\n"
          ]
        }
      ]
    },
    {
      "cell_type": "code",
      "source": [
        "#loops 4. multiply with 4 to get the series\n",
        "n=int(input(\"Enter n value: \"))\n",
        "for i in range(1,n+1):\n",
        "    print(4**i,end=\",\")\n",
        "print(\"...\")"
      ],
      "metadata": {
        "colab": {
          "base_uri": "https://localhost:8080/"
        },
        "id": "hhWmt56INoGA",
        "outputId": "6a42fba1-a6f1-4694-ca06-8a910248e176"
      },
      "execution_count": null,
      "outputs": [
        {
          "output_type": "stream",
          "name": "stdout",
          "text": [
            "Enter n value: 5\n",
            "4,16,64,256,1024,...\n"
          ]
        }
      ]
    },
    {
      "cell_type": "code",
      "source": [
        "#to get the series 13,7,39,21,117,63\n",
        "s1 = 13\n",
        "s2 = 7\n",
        "n = 6\n",
        "\n",
        "for _ in range(n):\n",
        "    if _ % 2 == 0:\n",
        "        print(s1, end=\",\")\n",
        "        if _ < 4:\n",
        "            s1 = s1 * 3\n",
        "        else:\n",
        "            s1 = s1 + 50\n",
        "    else:\n",
        "        print(s2, end=\",\")\n",
        "        s2 = s2 + 14\n",
        "\n",
        "print(\"...\")"
      ],
      "metadata": {
        "colab": {
          "base_uri": "https://localhost:8080/"
        },
        "id": "Ykvvf0QWNqaM",
        "outputId": "1e401f40-00e2-446a-a58f-0da519abb072"
      },
      "execution_count": null,
      "outputs": [
        {
          "output_type": "stream",
          "name": "stdout",
          "text": [
            "13,7,39,21,117,35,...\n"
          ]
        }
      ]
    },
    {
      "cell_type": "code",
      "source": [
        "#CLASS"
      ],
      "metadata": {
        "id": "C6Wk4J10OfHx"
      },
      "execution_count": null,
      "outputs": []
    },
    {
      "cell_type": "code",
      "source": [
        "n = int(input())\n",
        "s1 = 13\n",
        "s2 = 7\n",
        "c = True\n",
        "\n",
        "while n > 0:\n",
        "    n -= 1\n",
        "    if c:\n",
        "        print(s1, end=' ')\n",
        "        s1 *= 3\n",
        "        c = False\n",
        "    else:\n",
        "        print(s2, end=' ')\n",
        "        s2 *= 3\n",
        "        c = True"
      ],
      "metadata": {
        "colab": {
          "base_uri": "https://localhost:8080/"
        },
        "id": "h6KfnAcPOhOt",
        "outputId": "8e21ea89-9cf6-41cb-dce1-ebbd73b2fbde"
      },
      "execution_count": null,
      "outputs": [
        {
          "output_type": "stream",
          "name": "stdout",
          "text": [
            "5\n",
            "13 7 39 21 117 "
          ]
        }
      ]
    },
    {
      "cell_type": "code",
      "source": [
        "def power(a,b):\n",
        "  ans=1\n",
        "  while(b>0):\n",
        "    ans*=2;\n",
        "    b-=1;\n",
        "  return ans\n",
        "print(power(2,10));"
      ],
      "metadata": {
        "colab": {
          "base_uri": "https://localhost:8080/"
        },
        "id": "QsUF6-bKOri-",
        "outputId": "91b4ac67-32bb-4206-ffe3-0b0564c75c8f"
      },
      "execution_count": null,
      "outputs": [
        {
          "output_type": "stream",
          "name": "stdout",
          "text": [
            "1024\n"
          ]
        }
      ]
    },
    {
      "cell_type": "code",
      "source": [
        "def power(a,b):\n",
        "  ans=1\n",
        "  while(b>0):\n",
        "    ans*=5;\n",
        "    b-=1;\n",
        "  return ans\n",
        "print(power(5,3));"
      ],
      "metadata": {
        "colab": {
          "base_uri": "https://localhost:8080/"
        },
        "id": "fk18JMZJOuJj",
        "outputId": "6db97ef1-033a-4b3e-b3c5-3f10974f0bbe"
      },
      "execution_count": null,
      "outputs": [
        {
          "output_type": "stream",
          "name": "stdout",
          "text": [
            "125\n"
          ]
        }
      ]
    },
    {
      "cell_type": "code",
      "source": [
        "n=int(input(\"enter a number:\"))\n",
        "def pt(n):\n",
        "  for i in range(1,11):\n",
        "    print(n ,\"*\",i,\"=\",n*i)\n",
        "pt(n)\n"
      ],
      "metadata": {
        "colab": {
          "base_uri": "https://localhost:8080/"
        },
        "id": "ryc_KNd7O2J0",
        "outputId": "ea50f274-cccb-4916-fb5e-ee049926b487"
      },
      "execution_count": null,
      "outputs": [
        {
          "output_type": "stream",
          "name": "stdout",
          "text": [
            "enter a number:5\n",
            "5 * 1 = 5\n",
            "5 * 2 = 10\n",
            "5 * 3 = 15\n",
            "5 * 4 = 20\n",
            "5 * 5 = 25\n",
            "5 * 6 = 30\n",
            "5 * 7 = 35\n",
            "5 * 8 = 40\n",
            "5 * 9 = 45\n",
            "5 * 10 = 50\n"
          ]
        }
      ]
    },
    {
      "cell_type": "code",
      "source": [
        "n=int(input(\"enter a number:\"))\n",
        "def pt(n):\n",
        "  for i in range(1,11,2):\n",
        "    print(n ,\"*\",i,\"=\",n*i)\n",
        "pt(n)"
      ],
      "metadata": {
        "colab": {
          "base_uri": "https://localhost:8080/"
        },
        "id": "K_532Iv3O89Q",
        "outputId": "d197760b-f3f2-4487-f551-da60ba081544"
      },
      "execution_count": null,
      "outputs": [
        {
          "output_type": "stream",
          "name": "stdout",
          "text": [
            "enter a number:5\n",
            "5 * 1 = 5\n",
            "5 * 3 = 15\n",
            "5 * 5 = 25\n",
            "5 * 7 = 35\n",
            "5 * 9 = 45\n"
          ]
        }
      ]
    },
    {
      "cell_type": "code",
      "source": [
        "x=int(input(\"enter a number:\"))\n",
        "def func(x):\n",
        "  return x%10\n",
        "func(x)"
      ],
      "metadata": {
        "colab": {
          "base_uri": "https://localhost:8080/"
        },
        "id": "UmHZKQ91PIkY",
        "outputId": "4c179e4e-bc8f-493f-94cc-7d8b44954693"
      },
      "execution_count": null,
      "outputs": [
        {
          "name": "stdout",
          "output_type": "stream",
          "text": [
            "enter a number:5\n"
          ]
        },
        {
          "output_type": "execute_result",
          "data": {
            "text/plain": [
              "5"
            ]
          },
          "metadata": {},
          "execution_count": 15
        }
      ]
    },
    {
      "cell_type": "code",
      "source": [
        "x=int(input(\"enter a number:\"))\n",
        "def func(x):\n",
        "  return x-((x//10)*10)\n",
        "func(x)"
      ],
      "metadata": {
        "colab": {
          "base_uri": "https://localhost:8080/"
        },
        "id": "9U1BWODpPPph",
        "outputId": "035e5500-43b0-4536-c2f5-8e1cc2da12fc"
      },
      "execution_count": null,
      "outputs": [
        {
          "name": "stdout",
          "output_type": "stream",
          "text": [
            "enter a number:5\n"
          ]
        },
        {
          "output_type": "execute_result",
          "data": {
            "text/plain": [
              "5"
            ]
          },
          "metadata": {},
          "execution_count": 16
        }
      ]
    },
    {
      "cell_type": "code",
      "source": [
        "a=int(input(\"enter a number:\"))\n",
        "b=int(input(\"enter a number:\"))\n",
        "def count(b):\n",
        "  c=0\n",
        "  while b>0:\n",
        "    c+=1\n",
        "    b//=10\n",
        "  return c\n",
        "def func(a,b):\n",
        "  c=count(b)\n",
        "  return (a//10**c)*(10**c)+b\n",
        "print(func(a,b))"
      ],
      "metadata": {
        "colab": {
          "base_uri": "https://localhost:8080/"
        },
        "id": "lV15hybeRdIf",
        "outputId": "6659f4dc-329d-4245-b9da-fb0eff7debd8"
      },
      "execution_count": null,
      "outputs": [
        {
          "output_type": "stream",
          "name": "stdout",
          "text": [
            "enter a number:1234\n",
            "enter a number:77\n",
            "1277\n"
          ]
        }
      ]
    },
    {
      "cell_type": "code",
      "source": [
        "x=int(input(\"enter a number:\"))\n",
        "\n",
        "def count(x):\n",
        "  c=0\n",
        "  while x>0:\n",
        "    c+=1\n",
        "    x//=10\n",
        "  return c\n",
        "def fvr(x):\n",
        "  c=count(x)\n",
        "  return x//pow(10,c-1)\n",
        "print(fvr(x))"
      ],
      "metadata": {
        "colab": {
          "base_uri": "https://localhost:8080/"
        },
        "id": "3wPOX4JGS-Jo",
        "outputId": "98f632e9-8a7a-4e8e-9bf4-66197ec98116"
      },
      "execution_count": null,
      "outputs": [
        {
          "output_type": "stream",
          "name": "stdout",
          "text": [
            "enter a number:3456\n",
            "3\n"
          ]
        }
      ]
    },
    {
      "cell_type": "code",
      "source": [
        "x=int(input(\"enter a number:\"))\n",
        "\n",
        "def count(x):\n",
        "  c=0\n",
        "  while x>0:\n",
        "    c+=1\n",
        "    x//=10\n",
        "  return c\n",
        "\n",
        "def fdrem(x):\n",
        "  c=count(x)\n",
        "  return x-(x//pow(10,c-1))*pow(10,c-1)\n",
        "print(fdrem(x))\n"
      ],
      "metadata": {
        "id": "m0jX6ko8TGay",
        "outputId": "4364ab4a-f582-4b9b-f038-911e86c1d541",
        "colab": {
          "base_uri": "https://localhost:8080/"
        }
      },
      "execution_count": null,
      "outputs": [
        {
          "output_type": "stream",
          "name": "stdout",
          "text": [
            "enter a number:51234\n",
            "1234\n"
          ]
        }
      ]
    }
  ]
}