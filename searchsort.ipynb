{
  "nbformat": 4,
  "nbformat_minor": 0,
  "metadata": {
    "colab": {
      "provenance": [],
      "authorship_tag": "ABX9TyMXF4G4kAM8FTR/jmcaToB6",
      "include_colab_link": true
    },
    "kernelspec": {
      "name": "python3",
      "display_name": "Python 3"
    },
    "language_info": {
      "name": "python"
    }
  },
  "cells": [
    {
      "cell_type": "markdown",
      "metadata": {
        "id": "view-in-github",
        "colab_type": "text"
      },
      "source": [
        "<a href=\"https://colab.research.google.com/github/shravyashetty714/Python_training/blob/main/searchsort.ipynb\" target=\"_parent\"><img src=\"https://colab.research.google.com/assets/colab-badge.svg\" alt=\"Open In Colab\"/></a>"
      ]
    },
    {
      "cell_type": "code",
      "execution_count": null,
      "metadata": {
        "colab": {
          "base_uri": "https://localhost:8080/"
        },
        "id": "5axTcYQ1qBMR",
        "outputId": "e6c86092-9c9f-4953-8ea5-18d80028083f"
      },
      "outputs": [
        {
          "output_type": "stream",
          "name": "stdout",
          "text": [
            "Second smallest: 4\n",
            "Second largest: 8\n"
          ]
        }
      ],
      "source": [
        "#2nd largest and smallest value\n",
        "a = [4, 6, 7, 8, 4, 5, 6, 8]\n",
        "a.sort()\n",
        "if len(a) >= 2:\n",
        "    second_smallest = a[1]\n",
        "    second_largest = a[-2]\n",
        "    print(\"Second smallest:\", second_smallest)\n",
        "    print(\"Second largest:\", second_largest)\n",
        "else:\n",
        "    print(\"List does not have enough elements.\")"
      ]
    },
    {
      "cell_type": "code",
      "source": [
        "# Python 3 program for recursive binary search.\n",
        "def binary_search(arr, low, high, x):\n",
        "    if high >= low:\n",
        "\n",
        "        mid = (high + low) // 2\n",
        "        if arr[mid] == x:\n",
        "            return mid\n",
        "        elif arr[mid] > x:\n",
        "            return binary_search(arr, low, mid - 1, x)\n",
        "        else:\n",
        "            return binary_search(arr, mid + 1, high, x)\n",
        "\n",
        "    else:\n",
        "        return -1\n",
        "arr = [ 2, 3, 4, 10, 40 ]\n",
        "x = 10\n",
        "\n",
        "result = binary_search(arr, 0, len(arr)-1, x)\n",
        "\n",
        "if result != -1:\n",
        "    print(\"Element is present at index\", str(result))\n",
        "else:\n",
        "    print(\"Element is not present in array\")\n"
      ],
      "metadata": {
        "id": "XmJLCfJnsUAq",
        "colab": {
          "base_uri": "https://localhost:8080/"
        },
        "outputId": "67069d16-119a-4125-f36f-0e46bed5d219"
      },
      "execution_count": null,
      "outputs": [
        {
          "output_type": "stream",
          "name": "stdout",
          "text": [
            "Element is present at index 3\n"
          ]
        }
      ]
    },
    {
      "cell_type": "code",
      "source": [
        "#sort\n",
        "a=[6,3,7,8,9,2,4]\n",
        "n=len(a)\n",
        "i=0\n",
        "j=i+1\n",
        "for i in range(n):\n",
        "  for j in range(i+1,n):\n",
        "    if a[i]>a[j]:\n",
        "      a[i],a[j]=a[j],a[i]\n",
        "print(a)"
      ],
      "metadata": {
        "colab": {
          "base_uri": "https://localhost:8080/"
        },
        "id": "S6Y5zRfwAnNN",
        "outputId": "b4ed282b-503f-4966-ddcf-7dc728ddf964"
      },
      "execution_count": null,
      "outputs": [
        {
          "output_type": "stream",
          "name": "stdout",
          "text": [
            "[2, 3, 4, 6, 7, 8, 9]\n"
          ]
        }
      ]
    },
    {
      "cell_type": "code",
      "source": [
        "#selection sort\n",
        "def selec_sort(a):\n",
        "  n=len(a)\n",
        "  for i in range(n):\n",
        "    min=i\n",
        "    for j in range(i+1,n):\n",
        "      if a[j]<a[min]:\n",
        "        min=j\n",
        "    a[i],a[min]=a[min],a[i]\n",
        "  return a\n",
        "a=[5,7,1,6,8,3,9,6,7]\n",
        "print(selec_sort(a))"
      ],
      "metadata": {
        "colab": {
          "base_uri": "https://localhost:8080/"
        },
        "id": "QBSvx0FJA6hf",
        "outputId": "1f4f44f4-fc8e-4705-cc03-5cd64cce1092"
      },
      "execution_count": null,
      "outputs": [
        {
          "output_type": "stream",
          "name": "stdout",
          "text": [
            "[1, 3, 5, 6, 6, 7, 7, 8, 9]\n"
          ]
        }
      ]
    },
    {
      "cell_type": "code",
      "source": [
        "#insertion\n",
        "def insertion(n):\n",
        "  for i in range(len(n)):\n",
        "    j=i-1\n",
        "    while j>=0:\n",
        "      if n[j]>n[j+1]:\n",
        "        n[j],n[j+1]=n[j+1],n[j]\n",
        "      else:\n",
        "        break\n",
        "      j-=1\n",
        "  return n\n",
        "n=[5,7,2,4,1,7,8,9,4,5]\n",
        "print(insertion(n))"
      ],
      "metadata": {
        "id": "P5mrqxOyQvy-",
        "colab": {
          "base_uri": "https://localhost:8080/"
        },
        "outputId": "81f4ffb9-7b74-4a7a-cabb-d9b240277ce5"
      },
      "execution_count": null,
      "outputs": [
        {
          "output_type": "stream",
          "name": "stdout",
          "text": [
            "[1, 2, 4, 4, 5, 5, 7, 7, 8, 9]\n"
          ]
        }
      ]
    },
    {
      "cell_type": "code",
      "source": [
        "#merge sort\n",
        "def merge(a, start, mid, end):\n",
        "    t = []\n",
        "    i, j = start, mid + 1\n",
        "    while i < mid + 1 and j < end + 1:\n",
        "        if a[i] < a[j]:\n",
        "            t.append(a[i])\n",
        "            i += 1\n",
        "        else:\n",
        "            t.append(a[j])\n",
        "            j += 1\n",
        "    while i < mid + 1:\n",
        "        t.append(a[i])\n",
        "        i += 1\n",
        "    while j < end + 1:\n",
        "        t.append(a[j])\n",
        "        j += 1\n",
        "    for i in range(len(t)):\n",
        "        a[start + i] = t[i]\n",
        "def merge_sort(a, start, end):\n",
        "    if start < end:\n",
        "        mid = (start + end) // 2\n",
        "        merge_sort(a, start, mid)\n",
        "        merge_sort(a, mid + 1, end)\n",
        "        merge(a, start, mid, end)\n",
        "b = [2, 3, 4, 5, 2, 3, 7, 9, 5, 6, 4, 8]\n",
        "merge_sort(b, 0, len(b) - 1)\n",
        "print(b)"
      ],
      "metadata": {
        "id": "HDA3UYkUwTf3",
        "colab": {
          "base_uri": "https://localhost:8080/"
        },
        "outputId": "d3c8c431-52e6-4954-f634-6b593edb8a84"
      },
      "execution_count": null,
      "outputs": [
        {
          "output_type": "stream",
          "name": "stdout",
          "text": [
            "[2, 2, 3, 3, 4, 4, 5, 5, 6, 7, 8, 9]\n"
          ]
        }
      ]
    },
    {
      "cell_type": "code",
      "source": [],
      "metadata": {
        "id": "mojjVzw31IBz"
      },
      "execution_count": null,
      "outputs": []
    }
  ]
}