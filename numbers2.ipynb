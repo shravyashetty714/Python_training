{
  "nbformat": 4,
  "nbformat_minor": 0,
  "metadata": {
    "colab": {
      "provenance": [],
      "authorship_tag": "ABX9TyPZUjV96jz4l5aDuxILxisw",
      "include_colab_link": true
    },
    "kernelspec": {
      "name": "python3",
      "display_name": "Python 3"
    },
    "language_info": {
      "name": "python"
    }
  },
  "cells": [
    {
      "cell_type": "markdown",
      "metadata": {
        "id": "view-in-github",
        "colab_type": "text"
      },
      "source": [
        "<a href=\"https://colab.research.google.com/github/shravyashetty714/Python_training/blob/main/Day6.ipynb\" target=\"_parent\"><img src=\"https://colab.research.google.com/assets/colab-badge.svg\" alt=\"Open In Colab\"/></a>"
      ]
    },
    {
      "cell_type": "code",
      "execution_count": null,
      "metadata": {
        "colab": {
          "base_uri": "https://localhost:8080/"
        },
        "id": "PHXdmPZAvr5-",
        "outputId": "317b8130-42d6-424c-d849-0d1ea4c01162"
      },
      "outputs": [
        {
          "output_type": "stream",
          "name": "stdout",
          "text": [
            "Enter a positive integer: 5\n",
            "The sum of the first 5 natural numbers is: 15\n"
          ]
        }
      ],
      "source": [
        "#1. Write a program to the sum of n natural numbers.\n",
        "n = int(input(\"Enter a positive integer: \"))\n",
        "if n <= 0:\n",
        "    print(\"Please enter a positive integer.\")\n",
        "else:\n",
        "    sum = 0\n",
        "    for i in range(1, n + 1):\n",
        "        sum += i\n",
        "    print(f\"The sum of the first {n} natural numbers is: {sum}\")"
      ]
    },
    {
      "cell_type": "code",
      "source": [
        "#2. Write a program to compute 1/n!.\n",
        "def factorial(n):\n",
        "    result = 1\n",
        "    for i in range(1, n + 1):\n",
        "        result *= i\n",
        "    return result\n",
        "n = int(input(\"Enter a non-negative integer: \"))\n",
        "if n < 0:\n",
        "    print(\"Factorial is not defined for negative numbers.\")\n",
        "else:\n",
        "    fact = factorial(n)\n",
        "    reciprocal = 1 / fact\n",
        "    print(f\"1/{n}! = {reciprocal}\")"
      ],
      "metadata": {
        "colab": {
          "base_uri": "https://localhost:8080/"
        },
        "id": "4JXbvECnx7xe",
        "outputId": "7c9be1a0-51dc-4c98-8857-da643f6be2e5"
      },
      "execution_count": null,
      "outputs": [
        {
          "output_type": "stream",
          "name": "stdout",
          "text": [
            "Enter a non-negative integer: 5\n",
            "1/5! = 0.008333333333333333\n"
          ]
        }
      ]
    },
    {
      "cell_type": "code",
      "source": [
        "#4. Write a program to count the number of digits in an integer.\n",
        "def count_digits(n):\n",
        "    n = abs(n)\n",
        "    if n == 0:\n",
        "        return 1\n",
        "\n",
        "    count = 0\n",
        "    while n > 0:\n",
        "        digit = n % 10\n",
        "        n //= 10\n",
        "        count += 1\n",
        "\n",
        "    return count\n",
        "n=123465\n",
        "print(count_digits(n))\n"
      ],
      "metadata": {
        "colab": {
          "base_uri": "https://localhost:8080/"
        },
        "id": "CK4nr7a1yo6H",
        "outputId": "237db326-ac8b-401d-ddf7-abaf89ba0aea"
      },
      "execution_count": null,
      "outputs": [
        {
          "output_type": "stream",
          "name": "stdout",
          "text": [
            "6\n"
          ]
        }
      ]
    },
    {
      "cell_type": "code",
      "source": [
        "# 5.Write a program to sum of all digits of a number.\n",
        "def sum_digits(n):\n",
        "    n = abs(n)\n",
        "    sum=0\n",
        "    if n == 0:\n",
        "        return 1\n",
        "    while n > 0:\n",
        "      a = n % 10\n",
        "      sum=sum+a\n",
        "      n //= 10\n",
        "    return sum\n",
        "n=1234\n",
        "print(sum_digits(n))\n"
      ],
      "metadata": {
        "colab": {
          "base_uri": "https://localhost:8080/"
        },
        "id": "y73yaM9U1bnL",
        "outputId": "dab5e49c-31e3-44fa-c2f8-a0f79f112e18"
      },
      "execution_count": null,
      "outputs": [
        {
          "output_type": "stream",
          "name": "stdout",
          "text": [
            "10\n"
          ]
        }
      ]
    },
    {
      "cell_type": "code",
      "source": [
        "# 6. Write a program to reverse a given number.\n",
        "def reverse_number(n):\n",
        "    rev = 0\n",
        "    sign = -1 if n < 0 else 1\n",
        "    n = abs(n)\n",
        "    while n:\n",
        "        rev = rev * 10 + n % 10\n",
        "        n //= 10\n",
        "    return sign * rev\n",
        "n=2345\n",
        "print(reverse_number(n))"
      ],
      "metadata": {
        "colab": {
          "base_uri": "https://localhost:8080/"
        },
        "id": "8YzBdVze3h1-",
        "outputId": "8f8f053c-6abf-423e-f118-7f2750cde708"
      },
      "execution_count": null,
      "outputs": [
        {
          "output_type": "stream",
          "name": "stdout",
          "text": [
            "5432\n"
          ]
        }
      ]
    },
    {
      "cell_type": "code",
      "source": [
        "#7. Write a program to calculate G.C.D or HCF of two numbers.\n",
        "def gcd(a, b):\n",
        "    while b != 0:\n",
        "        a, b = b, a % b\n",
        "    return a\n",
        "a =28\n",
        "b =8\n",
        "print(gcd(a,b))"
      ],
      "metadata": {
        "id": "SJkzw-7x4zMc",
        "colab": {
          "base_uri": "https://localhost:8080/"
        },
        "outputId": "11e733d3-7dcb-40c3-8085-e1a2058175a0"
      },
      "execution_count": null,
      "outputs": [
        {
          "output_type": "stream",
          "name": "stdout",
          "text": [
            "4\n"
          ]
        }
      ]
    },
    {
      "cell_type": "code",
      "source": [
        "#8. Function to calculate LCM using the Euclidean algorithm\n",
        "def gcd(a, b):\n",
        "    while b != 0:\n",
        "        a, b = b, a % b\n",
        "    return a\n",
        "def lcm(a, b):\n",
        "    return abs(a * b) // gcd(a, b)\n",
        "a=28\n",
        "b=8\n",
        "print(lcm(a,b))"
      ],
      "metadata": {
        "colab": {
          "base_uri": "https://localhost:8080/"
        },
        "id": "7WywshwlLSH3",
        "outputId": "a5ababc2-3b29-47dc-8e55-a4a7e5535f12"
      },
      "execution_count": null,
      "outputs": [
        {
          "output_type": "stream",
          "name": "stdout",
          "text": [
            "56\n"
          ]
        }
      ]
    },
    {
      "cell_type": "code",
      "source": [
        "#9. Find factorial of a number\n",
        "def fact(n):\n",
        "  fact=1\n",
        "  for i in range(1,n+1):\n",
        "    fact=fact*i\n",
        "  return fact\n",
        "n=5\n",
        "print(fact(n))"
      ],
      "metadata": {
        "colab": {
          "base_uri": "https://localhost:8080/"
        },
        "id": "QdoSulQYNV2B",
        "outputId": "e1a04013-7f80-4470-f9ca-f148ee740ed4"
      },
      "execution_count": null,
      "outputs": [
        {
          "output_type": "stream",
          "name": "stdout",
          "text": [
            "120\n"
          ]
        }
      ]
    },
    {
      "cell_type": "code",
      "source": [
        "#11. check the number is palindrome or not\n",
        "def reverse_number(n):\n",
        "    rev = 0\n",
        "    sign = -1 if n < 0 else 1\n",
        "    n = abs(n)\n",
        "    while n:\n",
        "        rev = rev * 10 + n % 10\n",
        "        n //= 10\n",
        "    return sign * rev\n",
        "n=12321\n",
        "print(reverse_number(n))\n",
        "if(reverse_number(n)==n):\n",
        "      print(\"It is palindrome\")\n",
        "else:\n",
        "      print(\"Not palindrome\")"
      ],
      "metadata": {
        "colab": {
          "base_uri": "https://localhost:8080/"
        },
        "id": "gG0rtWcvRunc",
        "outputId": "36dfe31c-334b-4d47-a7e6-ca6b0cfb5a23"
      },
      "execution_count": null,
      "outputs": [
        {
          "output_type": "stream",
          "name": "stdout",
          "text": [
            "12321\n",
            "It is palindrome\n"
          ]
        }
      ]
    },
    {
      "cell_type": "code",
      "source": [
        "#12. check it is prime or not\n",
        "def prime(n):\n",
        "  if n>1:\n",
        "    for i in range(2,n):\n",
        "      if(i%n==0):\n",
        "        print(\"not Prime\")\n",
        "        break\n",
        "    else:\n",
        "      print(\"prime\")\n",
        "  else:\n",
        "    print(\"Give positive number\")\n",
        "n=5\n",
        "prime(n)"
      ],
      "metadata": {
        "colab": {
          "base_uri": "https://localhost:8080/"
        },
        "id": "Rq6vJmS40-0j",
        "outputId": "8b44c07c-a19b-4d8d-8d5b-e0471c165975"
      },
      "execution_count": null,
      "outputs": [
        {
          "output_type": "stream",
          "name": "stdout",
          "text": [
            "prime\n"
          ]
        }
      ]
    },
    {
      "cell_type": "code",
      "source": [
        "# 13 Perfect square or notb\n",
        "def persq(n):\n",
        "  if n<0:\n",
        "    return False\n",
        "  m=n**0.5\n",
        "  return m*m==n\n",
        "n=25\n",
        "if persq(n):\n",
        "  print(\"Perfect square\")\n",
        "else:\n",
        "  print(\"Not perfect square\")"
      ],
      "metadata": {
        "colab": {
          "base_uri": "https://localhost:8080/"
        },
        "id": "BR00elkW1Yap",
        "outputId": "66063422-fdc1-4b58-f79a-94701c251018"
      },
      "execution_count": null,
      "outputs": [
        {
          "output_type": "stream",
          "name": "stdout",
          "text": [
            "Perfect square\n"
          ]
        }
      ]
    },
    {
      "cell_type": "code",
      "source": [],
      "metadata": {
        "id": "ZK-NuPTO7E2-"
      },
      "execution_count": null,
      "outputs": []
    }
  ]
}
