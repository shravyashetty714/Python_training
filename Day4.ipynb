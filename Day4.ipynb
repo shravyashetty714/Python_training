{
  "nbformat": 4,
  "nbformat_minor": 0,
  "metadata": {
    "colab": {
      "provenance": [],
      "authorship_tag": "ABX9TyPpnA9ifOkwowWV1t6ELpSX",
      "include_colab_link": true
    },
    "kernelspec": {
      "name": "python3",
      "display_name": "Python 3"
    },
    "language_info": {
      "name": "python"
    }
  },
  "cells": [
    {
      "cell_type": "markdown",
      "metadata": {
        "id": "view-in-github",
        "colab_type": "text"
      },
      "source": [
        "<a href=\"https://colab.research.google.com/github/shravyashetty714/Python_training/blob/main/Day4.ipynb\" target=\"_parent\"><img src=\"https://colab.research.google.com/assets/colab-badge.svg\" alt=\"Open In Colab\"/></a>"
      ]
    },
    {
      "cell_type": "code",
      "execution_count": null,
      "metadata": {
        "colab": {
          "base_uri": "https://localhost:8080/"
        },
        "id": "Cj-Y4blH7en0",
        "outputId": "3e332353-60cb-403c-aabd-c3adef82424a"
      },
      "outputs": [
        {
          "output_type": "stream",
          "name": "stdout",
          "text": [
            "2 8 9 7 4 5 5 4 6 3 "
          ]
        }
      ],
      "source": [
        "#reverse the given number\n",
        "n = 3645547982\n",
        "def rev(n):\n",
        "  s=0\n",
        "  while n > 0:\n",
        "    s += n % 10\n",
        "    n //= 10\n",
        "    while s>0:\n",
        "      print(s%100,end=\" \")\n",
        "      s//=100\n",
        "rev(n)"
      ]
    },
    {
      "cell_type": "code",
      "source": [
        "#multiples of 2\n",
        "num=int(input(\"Enter the number:\"))\n",
        "print(\"multiples of 2 are:\")\n",
        "for i in range(1,num+1):\n",
        "  if(i%2==0):\n",
        "    print(i,end=' ')"
      ],
      "metadata": {
        "colab": {
          "base_uri": "https://localhost:8080/"
        },
        "id": "ua64lcE-aNTB",
        "outputId": "6b333ec7-1e0f-44e7-dbe2-203ae1e17d33"
      },
      "execution_count": null,
      "outputs": [
        {
          "output_type": "stream",
          "name": "stdout",
          "text": [
            "Enter the number:2\n",
            "multiples of 2 are:\n",
            "2 "
          ]
        }
      ]
    },
    {
      "cell_type": "code",
      "source": [
        "# Find HCF\n",
        "def hcf(x,y):\n",
        "  if x>y:\n",
        "    s=y\n",
        "  else:\n",
        "    s=x\n",
        "  for i in range(1,s+1):\n",
        "    if((x%i==0) and y%i==0):\n",
        "      hcf=i\n",
        "  return hcf\n",
        "print(hcf(54,24))"
      ],
      "metadata": {
        "colab": {
          "base_uri": "https://localhost:8080/"
        },
        "id": "7J6CMUY7nRgB",
        "outputId": "8095abfc-e88f-4444-e615-cecef37ae4ef"
      },
      "execution_count": null,
      "outputs": [
        {
          "output_type": "stream",
          "name": "stdout",
          "text": [
            "6\n"
          ]
        }
      ]
    },
    {
      "cell_type": "code",
      "source": [
        "#check for palindrome\n",
        "def isPalindrome(s):\n",
        "    return s == s[::-1]\n",
        "s = \"malayalam\"\n",
        "ans = isPalindrome(s)\n",
        "\n",
        "if ans:\n",
        "    print(\"Yes\")\n",
        "else:\n",
        "    print(\"No\")"
      ],
      "metadata": {
        "colab": {
          "base_uri": "https://localhost:8080/"
        },
        "id": "4tLGtQcXpSBg",
        "outputId": "818c3312-f355-4fc6-a20e-5b8622952591"
      },
      "execution_count": null,
      "outputs": [
        {
          "output_type": "stream",
          "name": "stdout",
          "text": [
            "Yes\n"
          ]
        }
      ]
    },
    {
      "cell_type": "code",
      "source": [
        "#binary to decimal\n",
        "def binary_to_decimal(binary):\n",
        "    decimal = 0\n",
        "    power = 0\n",
        "    for i in reversed(binary):\n",
        "        if i == '1':\n",
        "            decimal += 2 ** power\n",
        "        power += 1\n",
        "    return decimal\n",
        "binary = input(\"Enter a binary number: \")\n",
        "decimal = binary_to_decimal(binary)\n",
        "print(decimal)\n",
        "def x(decimal):\n",
        "  while 1:\n",
        "    s=0\n",
        "    while decimal>0:\n",
        "      s+=decimal%10\n",
        "      decimal//=10\n",
        "    if s<10:\n",
        "      return s\n",
        "    decimal=s\n",
        "result=x(decimal)\n",
        "print(result)\n"
      ],
      "metadata": {
        "colab": {
          "base_uri": "https://localhost:8080/"
        },
        "id": "ge27gcMZx_FQ",
        "outputId": "c7467280-66ea-44d2-e584-24425b825a5c"
      },
      "execution_count": null,
      "outputs": [
        {
          "output_type": "stream",
          "name": "stdout",
          "text": [
            "Enter a binary number: 1000\n",
            "8\n",
            "8\n"
          ]
        }
      ]
    },
    {
      "cell_type": "code",
      "source": [
        "#bits\n",
        "def bit(n, i):\n",
        "    if (n & (1 << i)) != 0:\n",
        "        return True\n",
        "    else:\n",
        "        return False\n",
        "no = int(input(\"Enter a number: \"))\n",
        "bp = int(input(\"Enter i: \"))\n",
        "if bit(no,bp):\n",
        "  print('set')\n",
        "else:\n",
        "  print( 'not set')\n",
        "print(result)\n"
      ],
      "metadata": {
        "colab": {
          "base_uri": "https://localhost:8080/"
        },
        "id": "XJZGgUZQZ5Oy",
        "outputId": "5ee61541-dbd9-4d8b-9aff-bed3e8682656"
      },
      "execution_count": null,
      "outputs": [
        {
          "output_type": "stream",
          "name": "stdout",
          "text": [
            "Enter a number: 64\n",
            "Enter i: 6\n",
            "set\n",
            "8\n"
          ]
        }
      ]
    },
    {
      "cell_type": "code",
      "source": [
        "def cs(n,i):\n",
        "  if n&2**i:\n",
        "    print('set')\n",
        "  else:\n",
        "    print('unset')\n",
        "cs(64,6)"
      ],
      "metadata": {
        "colab": {
          "base_uri": "https://localhost:8080/"
        },
        "id": "js_1B1Zng5rc",
        "outputId": "2f5e6ec9-2ed8-4567-e968-03a32e49c94f"
      },
      "execution_count": null,
      "outputs": [
        {
          "output_type": "stream",
          "name": "stdout",
          "text": [
            "set\n"
          ]
        }
      ]
    },
    {
      "cell_type": "code",
      "source": [
        "def cs(n,i):\n",
        "  return n|2**i\n",
        "print(cs(9,2))"
      ],
      "metadata": {
        "colab": {
          "base_uri": "https://localhost:8080/"
        },
        "id": "nPfi4IiDkRUw",
        "outputId": "1418081b-d1a9-4859-d4d0-c814665226eb"
      },
      "execution_count": null,
      "outputs": [
        {
          "output_type": "stream",
          "name": "stdout",
          "text": [
            "13\n"
          ]
        }
      ]
    },
    {
      "cell_type": "markdown",
      "source": [],
      "metadata": {
        "id": "ghLFYmRh3e1J"
      }
    },
    {
      "cell_type": "code",
      "source": [
        "def flipflop(n,i):\n",
        "  return n^(2**i)\n",
        "print(flipflop(8,0))"
      ],
      "metadata": {
        "colab": {
          "base_uri": "https://localhost:8080/"
        },
        "id": "zjt5aIl3s6rv",
        "outputId": "f666f08e-89c6-4e4c-91ea-70b0e885e09e"
      },
      "execution_count": null,
      "outputs": [
        {
          "output_type": "stream",
          "name": "stdout",
          "text": [
            "9\n"
          ]
        }
      ]
    }
  ]
}