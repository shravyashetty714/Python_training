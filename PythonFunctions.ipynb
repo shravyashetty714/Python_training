{
  "nbformat": 4,
  "nbformat_minor": 0,
  "metadata": {
    "colab": {
      "provenance": [],
      "authorship_tag": "ABX9TyNmzSpUh59Ai5VnDWXq4NWs",
      "include_colab_link": true
    },
    "kernelspec": {
      "name": "python3",
      "display_name": "Python 3"
    },
    "language_info": {
      "name": "python"
    }
  },
  "cells": [
    {
      "cell_type": "markdown",
      "metadata": {
        "id": "view-in-github",
        "colab_type": "text"
      },
      "source": [
        "<a href=\"https://colab.research.google.com/github/shravyashetty714/Python_training/blob/main/NumberLogics.ipynb\" target=\"_parent\"><img src=\"https://colab.research.google.com/assets/colab-badge.svg\" alt=\"Open In Colab\"/></a>"
      ]
    },
    {
      "cell_type": "code",
      "execution_count": null,
      "metadata": {
        "colab": {
          "base_uri": "https://localhost:8080/"
        },
        "id": "00k1YdBwzakP",
        "outputId": "69c36595-09ba-46c3-c26a-0d67983067d5"
      },
      "outputs": [
        {
          "output_type": "stream",
          "name": "stdout",
          "text": [
            "After swapping: x = 10, y = 5\n"
          ]
        }
      ],
      "source": [
        "# 1. Function to swap two numbers without using a temporary variable\n",
        "def swap_numbers(a, b):\n",
        "    a = a + b\n",
        "    b = a - b\n",
        "    a = a - b\n",
        "    return a, b\n",
        "x = 5\n",
        "y = 10\n",
        "x, y = swap_numbers(x, y)\n",
        "print(f\"After swapping: x = {x}, y = {y}\")\n"
      ]
    },
    {
      "cell_type": "code",
      "source": [
        "# 2. Function to calculate power using recursion\n",
        "def power(base, exponent):\n",
        "    if exponent == 0:\n",
        "        return 1\n",
        "    return base * power(base, exponent - 1)\n",
        "result = power(2, 3)\n",
        "print(f\"2^3 = {result}\")\n"
      ],
      "metadata": {
        "colab": {
          "base_uri": "https://localhost:8080/"
        },
        "id": "Xp73dOvp1HJL",
        "outputId": "643f37f5-fcd3-4535-e848-10802a294652"
      },
      "execution_count": null,
      "outputs": [
        {
          "output_type": "stream",
          "name": "stdout",
          "text": [
            "2^3 = 8\n"
          ]
        }
      ]
    },
    {
      "cell_type": "code",
      "source": [
        "#3. Function to calculate the sum of digits of a number using recursion\n",
        "def sum_of_digits(number):\n",
        "    if number == 0:\n",
        "        return 0\n",
        "    return number % 10 + sum_of_digits(number // 10)\n",
        "number = 1234\n",
        "result = sum_of_digits(number)\n",
        "print(f\"Sum of digits of {number} is {result}\")\n"
      ],
      "metadata": {
        "colab": {
          "base_uri": "https://localhost:8080/"
        },
        "id": "dxcPB9L11Oyy",
        "outputId": "b38191b8-99da-41dd-b29e-c50d0cd3ed4a"
      },
      "execution_count": null,
      "outputs": [
        {
          "output_type": "stream",
          "name": "stdout",
          "text": [
            "Sum of digits of 1234 is 10\n"
          ]
        }
      ]
    },
    {
      "cell_type": "code",
      "source": [
        "# 4. Function to convert decimal to binary using recursion\n",
        "def decimal_to_binary(n):\n",
        "    if n == 0:\n",
        "        return ''\n",
        "    return decimal_to_binary(n // 2) + str(n % 2)\n",
        "decimal_number = 10\n",
        "binary_representation = decimal_to_binary(decimal_number)\n",
        "print(f\"Binary representation of {decimal_number} is {binary_representation}\")\n"
      ],
      "metadata": {
        "colab": {
          "base_uri": "https://localhost:8080/"
        },
        "id": "yYW2agZh1WLT",
        "outputId": "2c7484ca-85f2-4704-82f7-abb1d631f67a"
      },
      "execution_count": null,
      "outputs": [
        {
          "output_type": "stream",
          "name": "stdout",
          "text": [
            "Binary representation of 10 is 1010\n"
          ]
        }
      ]
    },
    {
      "cell_type": "code",
      "source": [
        "# 5. Function to check if a character is a vowel or consonant\n",
        "def check_vowel_or_consonant(char):\n",
        "    vowels = 'aeiouAEIOU'\n",
        "    if char in vowels:\n",
        "        return f\"{char} is a vowel.\"\n",
        "    else:\n",
        "        return f\"{char} is a consonant.\"\n",
        "\n",
        "character = 'a'\n",
        "result = check_vowel_or_consonant(character)\n",
        "print(result)\n"
      ],
      "metadata": {
        "id": "6WvXzOgW1dzD"
      },
      "execution_count": null,
      "outputs": []
    },
    {
      "cell_type": "code",
      "source": [
        "#MATHEMATICAL ALGORITHMS"
      ],
      "metadata": {
        "id": "v6tQB7_61gi1"
      },
      "execution_count": null,
      "outputs": []
    },
    {
      "cell_type": "code",
      "source": [
        "#1. Efficient method to check if a number is multiple of 3\n",
        "def is_multiple_of_3(n):\n",
        "    return n % 3 == 0\n",
        "number = 15\n",
        "if is_multiple_of_3(number):\n",
        "    print(f\"{number} is a multiple of 3\")\n",
        "else:\n",
        "    print(f\"{number} is not a multiple of 3\")\n"
      ],
      "metadata": {
        "colab": {
          "base_uri": "https://localhost:8080/"
        },
        "id": "RMxpxDgl1sSk",
        "outputId": "11872712-0f6b-451a-c368-4563ce26a829"
      },
      "execution_count": null,
      "outputs": [
        {
          "output_type": "stream",
          "name": "stdout",
          "text": [
            "15 is a multiple of 3\n"
          ]
        }
      ]
    },
    {
      "cell_type": "code",
      "source": [
        "#2. Efficient way to multiply a number by 7 using bit-shifting\n",
        "def multiply_by_7(n):\n",
        "    return (n << 3) - n  # (n * 8) - n is equivalent to (n * 7)\n",
        "number = 5\n",
        "result = multiply_by_7(number)\n",
        "print(f\"{number} multiplied by 7 is {result}\")\n"
      ],
      "metadata": {
        "colab": {
          "base_uri": "https://localhost:8080/"
        },
        "id": "_veA-gY03Uxs",
        "outputId": "d8a18da2-379b-479d-9381-ecde9c4e5b45"
      },
      "execution_count": null,
      "outputs": [
        {
          "output_type": "stream",
          "name": "stdout",
          "text": [
            "5 multiplied by 7 is 35\n"
          ]
        }
      ]
    },
    {
      "cell_type": "code",
      "source": [
        "#3. Function to print all permutations of a string\n",
        "def permutations(s, index=0):\n",
        "    # Base case: if index reaches the length of the string, print the string\n",
        "    if index == len(s):\n",
        "        print(''.join(s))\n",
        "    else:\n",
        "        for i in range(index, len(s)):\n",
        "            # Swap characters at index and i\n",
        "            s_list = list(s)\n",
        "            s_list[index], s_list[i] = s_list[i], s_list[index]\n",
        "            # Recurse with the next index\n",
        "            permutations(''.join(s_list), index + 1)\n",
        "string = \"ABC\"\n",
        "permutations(string)\n"
      ],
      "metadata": {
        "colab": {
          "base_uri": "https://localhost:8080/"
        },
        "id": "4iVI98Km3eSu",
        "outputId": "1ff65505-86b3-4e4b-ba01-bdf6d26f4b3f"
      },
      "execution_count": null,
      "outputs": [
        {
          "output_type": "stream",
          "name": "stdout",
          "text": [
            "ABC\n",
            "ACB\n",
            "BAC\n",
            "BCA\n",
            "CBA\n",
            "CAB\n"
          ]
        }
      ]
    },
    {
      "cell_type": "code",
      "source": [
        "# 4. Efficient function to find lucky numbers up to 'n'\n",
        "def lucky_numbers(n):\n",
        "    numbers = list(range(1, n + 1))\n",
        "    idx = 1\n",
        "    while idx < len(numbers):\n",
        "        step = numbers[idx]\n",
        "        numbers = [num for i, num in enumerate(numbers) if (i == 0 or (i + 1) % step != 0)]\n",
        "        idx += 1\n",
        "    return numbers\n",
        "limit = 30\n",
        "print(\"Lucky numbers:\", lucky_numbers(limit))\n"
      ],
      "metadata": {
        "colab": {
          "base_uri": "https://localhost:8080/"
        },
        "id": "3fJo8AcB3mDA",
        "outputId": "b065af98-7762-44e6-e965-3b09f5eb1cb2"
      },
      "execution_count": null,
      "outputs": [
        {
          "output_type": "stream",
          "name": "stdout",
          "text": [
            "Lucky numbers: [1, 3, 5, 7, 11, 13, 17, 21, 23, 25]\n"
          ]
        }
      ]
    },
    {
      "cell_type": "code",
      "source": [
        "# 5. Function to add two numbers in base 14\n",
        "def add_base_14(num1, num2):\n",
        "    # Convert base 14 numbers to decimal (int)\n",
        "    num1_decimal = int(num1, 14)\n",
        "    num2_decimal = int(num2, 14)\n",
        "    result_decimal = num1_decimal + num2_decimal\n",
        "    result_base_14 = ''\n",
        "    while result_decimal > 0:\n",
        "        result_base_14 = str(result_decimal % 14) + result_base_14\n",
        "        result_decimal = result_decimal // 14\n",
        "\n",
        "    return result_base_14\n",
        "\n",
        "num1 = 'A7'  # base 14 number (A = 10 in decimal)\n",
        "num2 = '9B'  # base 14 number (B = 11 in decimal)\n",
        "result = add_base_14(num1, num2)\n",
        "print(f\"Sum of {num1} and {num2} in base 14 is {result}\")\n"
      ],
      "metadata": {
        "colab": {
          "base_uri": "https://localhost:8080/"
        },
        "id": "he64HSsl3qC_",
        "outputId": "0aba0019-bc6c-4ef7-baf0-ddba79a935ac"
      },
      "execution_count": null,
      "outputs": [
        {
          "output_type": "stream",
          "name": "stdout",
          "text": [
            "Sum of A7 and 9B in base 14 is 164\n"
          ]
        }
      ]
    },
    {
      "cell_type": "code",
      "source": [
        "#6. Babylonian method for square root\n",
        "def babylonian_sqrt(n):\n",
        "    if n == 0:\n",
        "        return 0\n",
        "    x = n\n",
        "    y = (x + n / x) / 2\n",
        "    while abs(x - y) > 1e-6:\n",
        "        x = y\n",
        "        y = (x + n / x) / 2\n",
        "    return x\n",
        "number = 25\n",
        "result = babylonian_sqrt(number)\n",
        "print(f\"Square root of {number} is approximately {result}\")\n"
      ],
      "metadata": {
        "colab": {
          "base_uri": "https://localhost:8080/"
        },
        "id": "FY69Ax1m33Dy",
        "outputId": "e90470aa-fa72-478f-966c-8284fb7c8a39"
      },
      "execution_count": null,
      "outputs": [
        {
          "output_type": "stream",
          "name": "stdout",
          "text": [
            "Square root of 25 is approximately 5.000000000053722\n"
          ]
        }
      ]
    },
    {
      "cell_type": "code",
      "source": [
        "#7. Multiply two numbers using addition recursively\n",
        "def multiply(a, b):\n",
        "    if b == 0:\n",
        "        return 0\n",
        "    return a + multiply(a, b - 1)\n",
        "\n",
        "# Example usage\n",
        "a, b = 5, 3\n",
        "result = multiply(a, b)\n",
        "print(f\"{a} multiplied by {b} is {result}\")\n"
      ],
      "metadata": {
        "colab": {
          "base_uri": "https://localhost:8080/"
        },
        "id": "Q9hCritS4nRH",
        "outputId": "430c62a3-d83c-435c-9612-adada0442f06"
      },
      "execution_count": null,
      "outputs": [
        {
          "output_type": "stream",
          "name": "stdout",
          "text": [
            "5 multiplied by 3 is 15\n"
          ]
        }
      ]
    },
    {
      "cell_type": "code",
      "source": [
        "#8. Function to print all combinations of points that can compose a given number\n",
        "def find_combinations(n):\n",
        "    combinations = []\n",
        "    for i in range(1, n // 2 + 1):\n",
        "        combinations.append((i, n - i))\n",
        "    return combinations\n",
        "\n",
        "# Example usage\n",
        "number = 10\n",
        "combinations = find_combinations(number)\n",
        "print(f\"Combinations that sum to {number}: {combinations}\")\n"
      ],
      "metadata": {
        "colab": {
          "base_uri": "https://localhost:8080/"
        },
        "id": "cstOaNAS4qiA",
        "outputId": "a77a9794-0d2a-41ae-b97a-06f8901e33b4"
      },
      "execution_count": null,
      "outputs": [
        {
          "output_type": "stream",
          "name": "stdout",
          "text": [
            "Combinations that sum to 10: [(1, 9), (2, 8), (3, 7), (4, 6), (5, 5)]\n"
          ]
        }
      ]
    },
    {
      "cell_type": "code",
      "source": [
        "#9. Custom power function without using multiplication and division operators\n",
        "def power(base, exponent):\n",
        "    if exponent == 0:\n",
        "        return 1\n",
        "    if exponent < 0:\n",
        "        return 1 / power(base, -exponent)\n",
        "    result = base\n",
        "    for _ in range(1, exponent):\n",
        "        result += base\n",
        "    return result\n",
        "result = power(2, 3)\n",
        "print(f\"2 raised to the power of 3 is {result}\")\n"
      ],
      "metadata": {
        "colab": {
          "base_uri": "https://localhost:8080/"
        },
        "id": "jt4rfoxx4xF9",
        "outputId": "3a45a41c-e5b6-48c3-969c-3b66da8f6271"
      },
      "execution_count": null,
      "outputs": [
        {
          "output_type": "stream",
          "name": "stdout",
          "text": [
            "2 raised to the power of 3 is 6\n"
          ]
        }
      ]
    },
    {
      "cell_type": "code",
      "source": [
        "#10. Fibonacci numbers using recursion\n",
        "def fibonacci(n):\n",
        "    if n <= 1:\n",
        "        return n\n",
        "    return fibonacci(n - 1) + fibonacci(n - 2)\n",
        "\n",
        "# Example usage\n",
        "num = 10\n",
        "print(f\"Fibonacci number at position {num} is {fibonacci(num)}\")\n"
      ],
      "metadata": {
        "colab": {
          "base_uri": "https://localhost:8080/"
        },
        "id": "7UI4mBRS43bW",
        "outputId": "48e1c221-c423-47a8-8260-f301d7d8e7d9"
      },
      "execution_count": null,
      "outputs": [
        {
          "output_type": "stream",
          "name": "stdout",
          "text": [
            "Fibonacci number at position 10 is 55\n"
          ]
        }
      ]
    },
    {
      "cell_type": "code",
      "source": [
        "#11. Calculate average of a stream of numbers\n",
        "class AverageStream:\n",
        "    def __init__(self):\n",
        "        self.sum = 0\n",
        "        self.count = 0\n",
        "\n",
        "    def add_number(self, num):\n",
        "        self.sum += num\n",
        "        self.count += 1\n",
        "\n",
        "    def get_average(self):\n",
        "        return self.sum / self.count if self.count != 0 else 0\n",
        "stream = AverageStream()\n",
        "stream.add_number(10)\n",
        "stream.add_number(20)\n",
        "stream.add_number(30)\n",
        "print(f\"Average of the stream is {stream.get_average()}\")\n"
      ],
      "metadata": {
        "colab": {
          "base_uri": "https://localhost:8080/"
        },
        "id": "YqNrPyAi49Wo",
        "outputId": "a9e27a24-9111-4b38-9491-ab6d4a008327"
      },
      "execution_count": null,
      "outputs": [
        {
          "output_type": "stream",
          "name": "stdout",
          "text": [
            "Average of the stream is 20.0\n"
          ]
        }
      ]
    },
    {
      "cell_type": "code",
      "source": [
        "#12. Count numbers that don’t contain the digit 3\n",
        "def count_numbers_without_3(start, end):\n",
        "    count = 0\n",
        "    for i in range(start, end + 1):\n",
        "        if '3' not in str(i):\n",
        "            count += 1\n",
        "    return count\n",
        "result = count_numbers_without_3(1, 100)\n",
        "print(f\"Count of numbers without the digit 3 between 1 and 100: {result}\")\n"
      ],
      "metadata": {
        "colab": {
          "base_uri": "https://localhost:8080/"
        },
        "id": "OK13-yho5M9R",
        "outputId": "f5461ab3-d9a6-4835-9ae9-d9d7873f6c12"
      },
      "execution_count": null,
      "outputs": [
        {
          "output_type": "stream",
          "name": "stdout",
          "text": [
            "Count of numbers without the digit 3 between 1 and 100: 81\n"
          ]
        }
      ]
    },
    {
      "cell_type": "code",
      "source": [
        "#13. Function to generate a magic square for odd n\n",
        "def generate_magic_square(n):\n",
        "    if n % 2 == 0:\n",
        "        raise ValueError(\"Only odd-sized magic squares are supported.\")\n",
        "\n",
        "    magic_square = [[0] * n for _ in range(n)]\n",
        "    i, j = 0, n // 2\n",
        "\n",
        "    for num in range(1, n * n + 1):\n",
        "        magic_square[i][j] = num\n",
        "        new_i, new_j = (i - 1) % n, (j + 1) % n\n",
        "        if magic_square[new_i][new_j]:\n",
        "            i += 1\n",
        "        else:\n",
        "            i, j = new_i, new_j\n",
        "\n",
        "    return magic_square\n",
        "size = 3\n",
        "magic_square = generate_magic_square(size)\n",
        "\n",
        "for row in magic_square:\n",
        "    print(row)\n",
        "\n"
      ],
      "metadata": {
        "colab": {
          "base_uri": "https://localhost:8080/"
        },
        "id": "9JKMjBqL5TXp",
        "outputId": "5fe687b8-c2e3-4ab3-8f03-344de525df7d"
      },
      "execution_count": null,
      "outputs": [
        {
          "output_type": "stream",
          "name": "stdout",
          "text": [
            "[8, 1, 6]\n",
            "[3, 5, 7]\n",
            "[4, 9, 2]\n"
          ]
        }
      ]
    },
    {
      "cell_type": "code",
      "source": [
        "# 14. Sieve of Eratosthenes to find all prime numbers up to n\n",
        "def sieve_of_eratosthenes(n):\n",
        "    primes = [True] * (n + 1)\n",
        "    primes[0], primes[1] = False, False\n",
        "    p = 2\n",
        "    while p * p <= n:\n",
        "        if primes[p]:\n",
        "            for i in range(p * p, n + 1, p):\n",
        "                primes[i] = False\n",
        "        p += 1\n",
        "    return [p for p in range(n + 1) if primes[p]]\n",
        "limit = 30\n",
        "primes = sieve_of_eratosthenes(limit)\n",
        "print(f\"Primes up to {limit}: {primes}\")\n"
      ],
      "metadata": {
        "colab": {
          "base_uri": "https://localhost:8080/"
        },
        "id": "pL-myloH5tD2",
        "outputId": "a65aaedc-08cc-47f3-db44-78e8ed7988ed"
      },
      "execution_count": null,
      "outputs": [
        {
          "output_type": "stream",
          "name": "stdout",
          "text": [
            "Primes up to 30: [2, 3, 5, 7, 11, 13, 17, 19, 23, 29]\n"
          ]
        }
      ]
    },
    {
      "cell_type": "code",
      "source": [
        "#15. Function to find the number with the most distinct prime factors in a range\n",
        "def count_prime_factors(num):\n",
        "    factors = set()\n",
        "    i = 2\n",
        "    while i * i <= num:\n",
        "        while num % i == 0:\n",
        "            factors.add(i)\n",
        "            num //= i\n",
        "        i += 1\n",
        "    if num > 1:\n",
        "        factors.add(num)\n",
        "    return len(factors)\n",
        "def number_with_max_prime_factors(m, n):\n",
        "    max_factors = 0\n",
        "    num_with_max_factors = m\n",
        "    for num in range(m, n + 1):\n",
        "        num_factors = count_prime_factors(num)\n",
        "        if num_factors > max_factors:\n",
        "            max_factors = num_factors\n",
        "            num_with_max_factors = num\n",
        "    return num_with_max_factors\n",
        "\n",
        "m, n = 10, 50\n",
        "result = number_with_max_prime_factors(m, n)\n",
        "print(f\"Number with maximum distinct prime factors between {m} and {n} is {result}\")\n"
      ],
      "metadata": {
        "colab": {
          "base_uri": "https://localhost:8080/"
        },
        "id": "G2iFpK325wmM",
        "outputId": "adf498d6-0c6c-42db-a5ce-3e839df10491"
      },
      "execution_count": null,
      "outputs": [
        {
          "output_type": "stream",
          "name": "stdout",
          "text": [
            "Number with maximum distinct prime factors between 10 and 50 is 30\n"
          ]
        }
      ]
    },
    {
      "cell_type": "code",
      "source": [
        "#16. Function to find the day of the week for a given date\n",
        "import datetime\n",
        "def find_day_of_week(date_string):\n",
        "    date = datetime.datetime.strptime(date_string, \"%Y-%m-%d\")\n",
        "    return date.strftime(\"%A\")\n",
        "\n",
        "date = \"2025-02-20\"\n",
        "day_of_week = find_day_of_week(date)\n",
        "print(f\"The day of the week for {date} is {day_of_week}.\")\n"
      ],
      "metadata": {
        "colab": {
          "base_uri": "https://localhost:8080/"
        },
        "id": "QbthM4kP51Ml",
        "outputId": "eddf33f2-693e-42a3-c49f-93d87c0265e1"
      },
      "execution_count": null,
      "outputs": [
        {
          "output_type": "stream",
          "name": "stdout",
          "text": [
            "The day of the week for 2025-02-20 is Thursday.\n"
          ]
        }
      ]
    },
    {
      "cell_type": "code",
      "source": [
        "# 17. DFA-Based Division (Finite Automaton for Division)\n",
        "#A DFA-based approach to simulate division is not trivial and typically used in more complex\n",
        "# computational theory settings. For practical purposes, Python's division operator can handle such cases.\n",
        "# However, if you'd like to explore DFA specifically, it's best suited for parsing regular languages, not arithmetic directly."
      ],
      "metadata": {
        "id": "qjViqRzk66m1"
      },
      "execution_count": null,
      "outputs": []
    },
    {
      "cell_type": "code",
      "source": [
        "#18. Function to generate a number from 1 to 7 with equal probability\n",
        "import random\n",
        "def generate_1_to_7():\n",
        "    return random.randint(1, 7)\n",
        "print(generate_1_to_7())\n"
      ],
      "metadata": {
        "colab": {
          "base_uri": "https://localhost:8080/"
        },
        "id": "UClLxfdr7TQO",
        "outputId": "2f4c3223-8b6a-4248-fa28-88c031341f65"
      },
      "execution_count": null,
      "outputs": [
        {
          "output_type": "stream",
          "name": "stdout",
          "text": [
            "4\n"
          ]
        }
      ]
    },
    {
      "cell_type": "code",
      "source": [
        "#19. Function to find the next smallest palindrome greater than the given number\n",
        "def next_palindrome(n):\n",
        "    n += 1\n",
        "    while str(n) != str(n)[::-1]:\n",
        "        n += 1\n",
        "    return n\n",
        "num = 123\n",
        "next_pal = next_palindrome(num)\n",
        "print(f\"Next palindrome after {num} is {next_pal}\")\n"
      ],
      "metadata": {
        "colab": {
          "base_uri": "https://localhost:8080/"
        },
        "id": "mlUaXWIq7j8R",
        "outputId": "1afc6dfc-3ed7-4262-f834-a393109bb55a"
      },
      "execution_count": null,
      "outputs": [
        {
          "output_type": "stream",
          "name": "stdout",
          "text": [
            "Next palindrome after 123 is 131\n"
          ]
        }
      ]
    },
    {
      "cell_type": "code",
      "source": [
        "#20. Function to simulate a fair coin flip from a biased coin\n",
        "import random\n",
        "def fair_coin_flip():\n",
        "    while True:\n",
        "        flip1 = random.choice([0, 1])\n",
        "        flip2 = random.choice([0, 1])\n",
        "        if flip1 != flip2:\n",
        "            return flip1\n",
        "print(fair_coin_flip())\n"
      ],
      "metadata": {
        "colab": {
          "base_uri": "https://localhost:8080/"
        },
        "id": "IpQXbdT47qHJ",
        "outputId": "b05e5257-6c8e-4bfa-877f-8fa91b8accf7"
      },
      "execution_count": null,
      "outputs": [
        {
          "output_type": "stream",
          "name": "stdout",
          "text": [
            "0\n"
          ]
        }
      ]
    },
    {
      "cell_type": "code",
      "source": [
        "#21. Function to check divisibility by 7\n",
        "def is_divisible_by_7(n):\n",
        "    return n % 7 == 0\n",
        "number = 49\n",
        "if is_divisible_by_7(number):\n",
        "    print(f\"{number} is divisible by 7.\")\n",
        "else:\n",
        "    print(f\"{number} is not divisible by 7.\")\n"
      ],
      "metadata": {
        "colab": {
          "base_uri": "https://localhost:8080/"
        },
        "id": "gH-jZEY8731C",
        "outputId": "895acae8-341b-42da-d960-e209609d5d68"
      },
      "execution_count": null,
      "outputs": [
        {
          "output_type": "stream",
          "name": "stdout",
          "text": [
            "49 is divisible by 7.\n"
          ]
        }
      ]
    },
    {
      "cell_type": "code",
      "source": [
        "#22. Function to find the largest multiple of 3\n",
        "def largest_multiple_of_3(n):\n",
        "    return n - n % 3\n",
        "number = 25\n",
        "print(f\"Largest multiple of 3 less than or equal to {number} is {largest_multiple_of_3(number)}\")\n"
      ],
      "metadata": {
        "colab": {
          "base_uri": "https://localhost:8080/"
        },
        "id": "_WgpmgMH8CzS",
        "outputId": "e81a4943-19fd-4bbe-d445-8089e0c21d8b"
      },
      "execution_count": null,
      "outputs": [
        {
          "output_type": "stream",
          "name": "stdout",
          "text": [
            "Largest multiple of 3 less than or equal to 25 is 24\n"
          ]
        }
      ]
    },
    {
      "cell_type": "code",
      "source": [
        "#23. Function to find lexicographic rank of a string\n",
        "import math\n",
        "def lexicographic_rank(string):\n",
        "    rank = 1\n",
        "    length = len(string)\n",
        "    fact = [1] * (length + 1)\n",
        "    for i in range(2, length + 1):\n",
        "        fact[i] = fact[i - 1] * i\n",
        "\n",
        "    for i in range(length):\n",
        "        smaller = sum([1 for j in range(i + 1, length) if string[j] < string[i]])\n",
        "        rank += smaller * fact[length - i - 1]\n",
        "\n",
        "    return rank\n",
        "s = \"STRING\"\n",
        "print(f\"Lexicographic rank of '{s}' is {lexicographic_rank(s)}\")\n"
      ],
      "metadata": {
        "colab": {
          "base_uri": "https://localhost:8080/"
        },
        "id": "ff7XFH558KJb",
        "outputId": "cd720ddf-a61c-45c0-8786-5ff7e9b58b18"
      },
      "execution_count": null,
      "outputs": [
        {
          "output_type": "stream",
          "name": "stdout",
          "text": [
            "Lexicographic rank of 'STRING' is 598\n"
          ]
        }
      ]
    },
    {
      "cell_type": "code",
      "source": [
        "#24. Function to print permutations in sorted lexicographic order\n",
        "\n",
        "import itertools\n",
        "def sorted_permutations(string):\n",
        "    perms = sorted(set(itertools.permutations(string)))\n",
        "    for perm in perms:\n",
        "        print(''.join(perm))\n",
        "s = \"ABC\"\n",
        "sorted_permutations(s)\n"
      ],
      "metadata": {
        "colab": {
          "base_uri": "https://localhost:8080/"
        },
        "id": "42ul-XAa8SX7",
        "outputId": "6733d4d3-a10e-441a-e15f-39a4fc6cc20b"
      },
      "execution_count": null,
      "outputs": [
        {
          "output_type": "stream",
          "name": "stdout",
          "text": [
            "ABC\n",
            "ACB\n",
            "BAC\n",
            "BCA\n",
            "CAB\n",
            "CBA\n"
          ]
        }
      ]
    },
    {
      "cell_type": "code",
      "source": [
        "#25. Function to shuffle an array\n",
        "import random\n",
        "def shuffle_array(arr):\n",
        "    random.shuffle(arr)\n",
        "array = [1, 2, 3, 4, 5]\n",
        "shuffle_array(array)\n",
        "print(f\"Shuffled array: {array}\")\n"
      ],
      "metadata": {
        "colab": {
          "base_uri": "https://localhost:8080/"
        },
        "id": "_hAD6D0H8fk-",
        "outputId": "2650b5e2-81e6-4df5-92ed-8db74817b43f"
      },
      "execution_count": null,
      "outputs": [
        {
          "output_type": "stream",
          "name": "stdout",
          "text": [
            "Shuffled array: [5, 3, 4, 2, 1]\n"
          ]
        }
      ]
    },
    {
      "cell_type": "code",
      "source": [
        "#26. Function to compute binomial coefficient C(n, k)\n",
        "def binomial_coefficient(n, k):\n",
        "    if k > n - k:\n",
        "        k = n - k\n",
        "    result = 1\n",
        "    for i in range(k):\n",
        "        result = result * (n - i) // (i + 1)\n",
        "    return result\n",
        "n, k = 5, 2\n",
        "print(f\"Binomial coefficient C({n}, {k}) is {binomial_coefficient(n, k)}\")\n"
      ],
      "metadata": {
        "colab": {
          "base_uri": "https://localhost:8080/"
        },
        "id": "iIxlyDH-8oy2",
        "outputId": "1dacfdee-8fd5-49e5-a782-7b7bae993ce8"
      },
      "execution_count": null,
      "outputs": [
        {
          "output_type": "stream",
          "name": "stdout",
          "text": [
            "Binomial coefficient C(5, 2) is 10\n"
          ]
        }
      ]
    },
    {
      "cell_type": "code",
      "source": [
        "#27. Function for reservoir sampling (select one element from a stream)\n",
        "import random\n",
        "def reservoir_sampling(stream, k=1):\n",
        "    reservoir = []\n",
        "    for i, item in enumerate(stream):\n",
        "        if i < k:\n",
        "            reservoir.append(item)\n",
        "        else:\n",
        "            j = random.randint(0, i)\n",
        "            if j < k:\n",
        "                reservoir[j] = item\n",
        "    return reservoir\n",
        "stream = [1, 2, 3, 4, 5]\n",
        "sample = reservoir_sampling(stream)\n",
        "print(f\"Randomly selected item: {sample}\")\n"
      ],
      "metadata": {
        "colab": {
          "base_uri": "https://localhost:8080/"
        },
        "id": "FChJs-Xd81qo",
        "outputId": "2504f004-5789-4ce2-e554-c77a155a9367"
      },
      "execution_count": null,
      "outputs": [
        {
          "output_type": "stream",
          "name": "stdout",
          "text": [
            "Randomly selected item: [1]\n"
          ]
        }
      ]
    },
    {
      "cell_type": "code",
      "source": [
        "#28. Function to generate Pascal's triangle\n",
        "def generate_pascals_triangle(n):\n",
        "    triangle = [[1]]\n",
        "    for i in range(1, n):\n",
        "        row = [1]\n",
        "        for j in range(1, i):\n",
        "            row.append(triangle[i-1][j-1] + triangle[i-1][j])\n",
        "        row.append(1)\n",
        "        triangle.append(row)\n",
        "    return triangle\n",
        "n = 5\n",
        "triangle = generate_pascals_triangle(n)\n",
        "for row in triangle:\n",
        "    print(row)\n"
      ],
      "metadata": {
        "colab": {
          "base_uri": "https://localhost:8080/"
        },
        "id": "nrBPWyeK8-vg",
        "outputId": "f81bf393-fbe6-4de5-ad4d-314aeefb44a7"
      },
      "execution_count": null,
      "outputs": [
        {
          "output_type": "stream",
          "name": "stdout",
          "text": [
            "[1]\n",
            "[1, 1]\n",
            "[1, 2, 1]\n",
            "[1, 3, 3, 1]\n",
            "[1, 4, 6, 4, 1]\n"
          ]
        }
      ]
    },
    {
      "cell_type": "code",
      "source": [
        "#29. Function to select a random number from a stream with O(1) space\n",
        "import random\n",
        "def random_from_stream(stream):\n",
        "    selected = None\n",
        "    for i, value in enumerate(stream):\n",
        "        if random.randint(0, i) == 0:\n",
        "            selected = value\n",
        "    return selected\n",
        "stream = [1, 2, 3, 4, 5]\n",
        "selected = random_from_stream(stream)\n",
        "print(f\"Randomly selected number: {selected}\")\n"
      ],
      "metadata": {
        "colab": {
          "base_uri": "https://localhost:8080/"
        },
        "id": "DQgoaAuJ9GsZ",
        "outputId": "349e8dcc-a2a4-4ebe-9522-f9a1e3176815"
      },
      "execution_count": null,
      "outputs": [
        {
          "output_type": "stream",
          "name": "stdout",
          "text": [
            "Randomly selected number: 5\n"
          ]
        }
      ]
    },
    {
      "cell_type": "code",
      "source": [
        "#30. Function to find the largest multiple of 2, 3, and 5\n",
        "import math\n",
        "def largest_multiple_of_2_3_5(n):\n",
        "    lcm = (2 * 3 * 5)\n",
        "    return (n // lcm) * lcm\n",
        "number = 100\n",
        "print(f\"Largest multiple of 2, 3, and 5 less than or equal to {number} is {largest_multiple_of_2_3_5(number)}\")\n"
      ],
      "metadata": {
        "colab": {
          "base_uri": "https://localhost:8080/"
        },
        "id": "RpbVUV4U9RLa",
        "outputId": "41f6fd60-6759-4167-9992-7892e5cd7d2b"
      },
      "execution_count": null,
      "outputs": [
        {
          "output_type": "stream",
          "name": "stdout",
          "text": [
            "Largest multiple of 2, 3, and 5 less than or equal to 100 is 90\n"
          ]
        }
      ]
    },
    {
      "cell_type": "code",
      "source": [
        "#31 Efficient calculation of e^x using Taylor series expansion\n",
        "import math\n",
        "def exp_x(x, terms=20):\n",
        "    result = 1.0\n",
        "    term = 1.0\n",
        "    for n in range(1, terms):\n",
        "        term *= x / n\n",
        "        result += term\n",
        "    return result\n",
        "x = 2\n",
        "print(f\"e^{x} is approximately {exp_x(x)}\")\n"
      ],
      "metadata": {
        "colab": {
          "base_uri": "https://localhost:8080/"
        },
        "id": "mDcf9o3g9YCj",
        "outputId": "cca20290-7f18-422c-eda6-db70c743f67b"
      },
      "execution_count": null,
      "outputs": [
        {
          "output_type": "stream",
          "name": "stdout",
          "text": [
            "e^2 is approximately 7.3890560989301735\n"
          ]
        }
      ]
    },
    {
      "cell_type": "code",
      "source": [
        "#32. Function to check if measuring 1 liter is possible with two vessels\n",
        "import math\n",
        "def can_measure_one_litre(a, b):\n",
        "    return math.gcd(a, b) == 1\n",
        "vessel1 = 5\n",
        "vessel2 = 3\n",
        "print(f\"Can measure 1 liter: {can_measure_one_litre(vessel1, vessel2)}\")\n"
      ],
      "metadata": {
        "colab": {
          "base_uri": "https://localhost:8080/"
        },
        "id": "qFZcn3GP-JvI",
        "outputId": "cacae762-105c-4040-b7a8-9881891221e2"
      },
      "execution_count": null,
      "outputs": [
        {
          "output_type": "stream",
          "name": "stdout",
          "text": [
            "Can measure 1 liter: True\n"
          ]
        }
      ]
    },
    {
      "cell_type": "code",
      "source": [
        "#33. Efficient program to print all prime factors of a given number\n",
        "def prime_factors(n):\n",
        "    factors = []\n",
        "    while n % 2 == 0:\n",
        "        factors.append(2)\n",
        "        n //= 2\n",
        "    for i in range(3, int(math.sqrt(n)) + 1, 2):\n",
        "        while n % i == 0:\n",
        "            factors.append(i)\n",
        "            n //= i\n",
        "    if n > 2:\n",
        "        factors.append(n)\n",
        "    return factors\n",
        "number = 60\n",
        "print(f\"Prime factors of {number} are {prime_factors(number)}\")\n"
      ],
      "metadata": {
        "colab": {
          "base_uri": "https://localhost:8080/"
        },
        "id": "YEGWE5xu-UZw",
        "outputId": "d8a5e55d-64bd-4b6b-a4a5-fc5c57035d11"
      },
      "execution_count": null,
      "outputs": [
        {
          "output_type": "stream",
          "name": "stdout",
          "text": [
            "Prime factors of 60 are [2, 2, 3, 5]\n"
          ]
        }
      ]
    },
    {
      "cell_type": "code",
      "source": [
        "#34. Function to print all possible combinations of r elements\n",
        "import itertools\n",
        "def combinations(arr, r):\n",
        "    return list(itertools.combinations(arr, r))\n",
        "arr = [1, 2, 3, 4]\n",
        "r = 2\n",
        "print(f\"Combinations of {r} elements: {combinations(arr, r)}\")\n"
      ],
      "metadata": {
        "colab": {
          "base_uri": "https://localhost:8080/"
        },
        "id": "G4AuTvBK-riD",
        "outputId": "444723ce-caed-4beb-997d-932e4984a5e8"
      },
      "execution_count": null,
      "outputs": [
        {
          "output_type": "stream",
          "name": "stdout",
          "text": [
            "Combinations of 2 elements: [(1, 2), (1, 3), (1, 4), (2, 3), (2, 4), (3, 4)]\n"
          ]
        }
      ]
    },
    {
      "cell_type": "code",
      "source": [
        "#35. Function to generate random number according to given probabilities\n",
        "import random\n",
        "def random_with_probability(numbers, probabilities):\n",
        "    return random.choices(numbers, weights=probabilities, k=1)[0]\n",
        "numbers = [1, 2, 3]\n",
        "probabilities = [0.1, 0.3, 0.6]\n",
        "print(f\"Randomly selected number: {random_with_probability(numbers, probabilities)}\")\n"
      ],
      "metadata": {
        "colab": {
          "base_uri": "https://localhost:8080/"
        },
        "id": "S1ptJMxA_NRu",
        "outputId": "4a012404-c9b5-445e-ed29-b39d08c91d55"
      },
      "execution_count": null,
      "outputs": [
        {
          "output_type": "stream",
          "name": "stdout",
          "text": [
            "Randomly selected number: 1\n"
          ]
        }
      ]
    },
    {
      "cell_type": "code",
      "source": [
        "#36. Function to check if a number is a Fibonacci number\n",
        "import math\n",
        "def is_fibonacci(n):\n",
        "    x1 = 5 * n * n + 4\n",
        "    x2 = 5 * n * n - 4\n",
        "    return is_perfect_square(x1) or is_perfect_square(x2)\n",
        "def is_perfect_square(x):\n",
        "    return int(math.sqrt(x)) ** 2 == x\n",
        "number = 34\n",
        "print(f\"{number} is a Fibonacci number: {is_fibonacci(number)}\")\n"
      ],
      "metadata": {
        "colab": {
          "base_uri": "https://localhost:8080/"
        },
        "id": "k7vHzXon_bxG",
        "outputId": "e9803669-109c-4e7d-b0ff-804d6bd73c28"
      },
      "execution_count": null,
      "outputs": [
        {
          "output_type": "stream",
          "name": "stdout",
          "text": [
            "34 is a Fibonacci number: True\n"
          ]
        }
      ]
    },
    {
      "cell_type": "code",
      "source": [
        "#37. Russian Peasant Multiplication\n",
        "def russian_peasant_multiplication(a, b):\n",
        "    result = 0\n",
        "    while a > 0:\n",
        "        if a % 2 != 0:\n",
        "            result += b\n",
        "        a //= 2\n",
        "        b *= 2\n",
        "    return result\n",
        "a, b = 18, 23\n",
        "print(f\"Russian Peasant Multiplication of {a} and {b} is {russian_peasant_multiplication(a, b)}\")\n"
      ],
      "metadata": {
        "colab": {
          "base_uri": "https://localhost:8080/"
        },
        "id": "nMGAGDBt_kyw",
        "outputId": "e721a24e-a889-4872-d713-2a7098b63455"
      },
      "execution_count": null,
      "outputs": [
        {
          "output_type": "stream",
          "name": "stdout",
          "text": [
            "Russian Peasant Multiplication of 18 and 23 is 414\n"
          ]
        }
      ]
    },
    {
      "cell_type": "code",
      "source": [
        "#38. Function to count groups of size 2 or 3 with sum multiple of 3\n",
        "from itertools import combinations\n",
        "def count_groups(arr):\n",
        "    count = 0\n",
        "    for comb in combinations(arr, 2):\n",
        "        if sum(comb) % 3 == 0:\n",
        "            count += 1\n",
        "    for comb in combinations(arr, 3):\n",
        "        if sum(comb) % 3 == 0:\n",
        "            count += 1\n",
        "    return count\n",
        "arr = [1, 2, 3, 4, 5, 6]\n",
        "print(f\"Number of valid groups: {count_groups(arr)}\")\n"
      ],
      "metadata": {
        "colab": {
          "base_uri": "https://localhost:8080/"
        },
        "id": "0fIhr21t_qTo",
        "outputId": "bda6ee6b-a6c1-4490-a188-fdb500830fe2"
      },
      "execution_count": null,
      "outputs": [
        {
          "output_type": "stream",
          "name": "stdout",
          "text": [
            "Number of valid groups: 13\n"
          ]
        }
      ]
    },
    {
      "cell_type": "code",
      "source": [
        "#39. Function to solve Tower of Hanoi problem\n",
        "def tower_of_hanoi(n, source, auxiliary, target):\n",
        "    if n == 1:\n",
        "        print(f\"Move disk 1 from {source} to {target}\")\n",
        "        return\n",
        "    tower_of_hanoi(n - 1, source, target, auxiliary)\n",
        "    print(f\"Move disk {n} from {source} to {target}\")\n",
        "    tower_of_hanoi(n - 1, auxiliary, source, target)\n",
        "n = 3\n",
        "tower_of_hanoi(n, 'A', 'B', 'C')\n"
      ],
      "metadata": {
        "colab": {
          "base_uri": "https://localhost:8080/"
        },
        "id": "5Yw5N7qW_2P8",
        "outputId": "596754f6-85d7-49ae-cc46-e5b78b829f0f"
      },
      "execution_count": null,
      "outputs": [
        {
          "output_type": "stream",
          "name": "stdout",
          "text": [
            "Move disk 1 from A to C\n",
            "Move disk 2 from A to B\n",
            "Move disk 1 from C to B\n",
            "Move disk 3 from A to C\n",
            "Move disk 1 from B to A\n",
            "Move disk 2 from B to C\n",
            "Move disk 1 from A to C\n"
          ]
        }
      ]
    },
    {
      "cell_type": "code",
      "source": [
        "#40. Function to evaluate polynomial using Horner's method\n",
        "def horner(coeffs, x):\n",
        "    result = coeffs[0]\n",
        "    for i in range(1, len(coeffs)):\n",
        "        result = result * x + coeffs[i]\n",
        "    return result\n",
        "coeffs = [1, -3, 2]\n",
        "x = 5\n",
        "print(f\"Polynomial evaluation at x={x}: {horner(coeffs, x)}\")\n"
      ],
      "metadata": {
        "colab": {
          "base_uri": "https://localhost:8080/"
        },
        "id": "OVKnlH2k_9Bs",
        "outputId": "9a2424b0-b56d-41e8-96c3-f4d203aeb2e0"
      },
      "execution_count": null,
      "outputs": [
        {
          "output_type": "stream",
          "name": "stdout",
          "text": [
            "Polynomial evaluation at x=5: 12\n"
          ]
        }
      ]
    },
    {
      "cell_type": "code",
      "source": [
        "#41. Function to count trailing zeroes in factorial\n",
        "def count_trailing_zeroes(n):\n",
        "    count = 0\n",
        "    while n >= 5:\n",
        "        n //= 5\n",
        "        count += n\n",
        "    return count\n",
        "number = 100\n",
        "print(f\"Trailing zeroes in {number}! are {count_trailing_zeroes(number)}\")\n"
      ],
      "metadata": {
        "colab": {
          "base_uri": "https://localhost:8080/"
        },
        "id": "qTVKGRRKADvb",
        "outputId": "48814e2a-9e17-4909-e9bc-739fa8bcfe99"
      },
      "execution_count": null,
      "outputs": [
        {
          "output_type": "stream",
          "name": "stdout",
          "text": [
            "Trailing zeroes in 100! are 24\n"
          ]
        }
      ]
    },
    {
      "cell_type": "code",
      "source": [
        "#42. Function to compute nth Catalan number using formula\n",
        "import math\n",
        "def catalan_number(n):\n",
        "    return math.comb(2 * n, n) // (n + 1)\n",
        "n = 5\n",
        "print(f\"The {n}th Catalan number is {catalan_number(n)}\")\n"
      ],
      "metadata": {
        "colab": {
          "base_uri": "https://localhost:8080/"
        },
        "id": "ZbgT1E2vAJsT",
        "outputId": "7fe853fe-6d0d-4ed7-b731-84a5854ebdb4"
      },
      "execution_count": null,
      "outputs": [
        {
          "output_type": "stream",
          "name": "stdout",
          "text": [
            "The 5th Catalan number is 42\n"
          ]
        }
      ]
    },
    {
      "cell_type": "code",
      "source": [
        "#43. Function to generate one of 3 numbers according to given probabilities\n",
        "import random\n",
        "def generate_random_based_on_probabilities(numbers, probabilities):\n",
        "    return random.choices(numbers, probabilities)[0]\n",
        "numbers = [1, 2, 3]\n",
        "probabilities = [0.2, 0.5, 0.3]\n",
        "print(f\"Generated number: {generate_random_based_on_probabilities(numbers, probabilities)}\")\n"
      ],
      "metadata": {
        "colab": {
          "base_uri": "https://localhost:8080/"
        },
        "id": "vQoLnKi-ASjz",
        "outputId": "1a985433-70ca-4723-c230-81c0f9b4b0cd"
      },
      "execution_count": null,
      "outputs": [
        {
          "output_type": "stream",
          "name": "stdout",
          "text": [
            "Generated number: 2\n"
          ]
        }
      ]
    },
    {
      "cell_type": "code",
      "source": [
        "#44. Function to find Excel column name from given number\n",
        "def excel_column_name(n):\n",
        "    result = \"\"\n",
        "    while n > 0:\n",
        "        n -= 1\n",
        "        result = chr(n % 26 + ord('A')) + result\n",
        "        n //= 26\n",
        "    return result\n",
        "n = 28\n",
        "print(f\"Excel column name for {n} is {excel_column_name(n)}\")\n"
      ],
      "metadata": {
        "colab": {
          "base_uri": "https://localhost:8080/"
        },
        "id": "3TLOoJOUAaX8",
        "outputId": "83a79493-1b2d-4aa3-d7db-df419488f6c7"
      },
      "execution_count": null,
      "outputs": [
        {
          "output_type": "stream",
          "name": "stdout",
          "text": [
            "Excel column name for 28 is AB\n"
          ]
        }
      ]
    },
    {
      "cell_type": "code",
      "source": [
        "#45. Function to find next greater number with the same set of digits\n",
        "def next_greater_number(n):\n",
        "    digits = list(str(n))\n",
        "    i = len(digits) - 2\n",
        "    while i >= 0 and digits[i] >= digits[i + 1]:\n",
        "        i -= 1\n",
        "    if i == -1:\n",
        "        return -1\n",
        "    j = len(digits) - 1\n",
        "    while digits[j] <= digits[i]:\n",
        "        j -= 1\n",
        "    digits[i], digits[j] = digits[j], digits[i]\n",
        "    digits[i + 1:] = digits[i + 1:][::-1]\n",
        "    return int(\"\".join(digits))\n",
        "num = 123\n",
        "print(f\"Next greater number with the same set of digits is {next_greater_number(num)}\")\n"
      ],
      "metadata": {
        "id": "2h5nKb-jBGb5",
        "colab": {
          "base_uri": "https://localhost:8080/"
        },
        "outputId": "76ca1a05-01a7-4d95-a9a1-a9ace226da21"
      },
      "execution_count": null,
      "outputs": [
        {
          "output_type": "stream",
          "name": "stdout",
          "text": [
            "Next greater number with the same set of digits is 132\n"
          ]
        }
      ]
    },
    {
      "cell_type": "code",
      "source": [
        "#46. Function to count possible decodings\n",
        "def count_decodings(s):\n",
        "    if not s or s[0] == '0':\n",
        "        return 0\n",
        "    n = len(s)\n",
        "    dp = [0] * (n + 1)\n",
        "    dp[0], dp[1] = 1, 1\n",
        "    for i in range(2, n + 1):\n",
        "        if s[i - 1] != '0':\n",
        "            dp[i] += dp[i - 1]\n",
        "        if s[i - 2:i] in ['10', '11', '12', '13', '14', '15', '16', '17', '18', '19']:\n",
        "            dp[i] += dp[i - 2]\n",
        "    return dp[n]\n",
        "sequence = \"226\"\n",
        "print(f\"Possible decodings: {count_decodings(sequence)}\")\n"
      ],
      "metadata": {
        "colab": {
          "base_uri": "https://localhost:8080/"
        },
        "id": "kqGIm-oKDWKO",
        "outputId": "529aa25b-4ad5-4ee1-c013-78512827650c"
      },
      "execution_count": null,
      "outputs": [
        {
          "output_type": "stream",
          "name": "stdout",
          "text": [
            "Possible decodings: 1\n"
          ]
        }
      ]
    },
    {
      "cell_type": "code",
      "source": [
        "#47. Function to calculate angle between hour and minute hand\n",
        "def angle_between_hands(hour, minute):\n",
        "    if hour < 0 or minute < 0 or hour > 12 or minute > 60:\n",
        "        return \"Invalid input\"\n",
        "\n",
        "    if hour == 12:\n",
        "        hour = 0\n",
        "    if minute == 60:\n",
        "        minute = 0\n",
        "        hour += 1\n",
        "\n",
        "    hour_angle = (hour * 30) + (minute * 0.5)\n",
        "    minute_angle = minute * 6\n",
        "\n",
        "    angle = abs(hour_angle - minute_angle)\n",
        "    return min(360 - angle, angle)\n",
        "hour, minute = 3, 15\n",
        "print(f\"Angle between hands: {angle_between_hands(hour, minute)} degrees\")"
      ],
      "metadata": {
        "colab": {
          "base_uri": "https://localhost:8080/"
        },
        "id": "c4tAxy1QDbu1",
        "outputId": "5458b783-5bce-480d-b4f8-1462523a3a84"
      },
      "execution_count": null,
      "outputs": [
        {
          "output_type": "stream",
          "name": "stdout",
          "text": [
            "Angle between hands: 7.5 degrees\n"
          ]
        }
      ]
    },
    {
      "cell_type": "code",
      "source": [
        "#48. Function to count binary strings without consecutive 1's\n",
        "def count_binary_strings(n):\n",
        "    if n <= 1:\n",
        "        return n\n",
        "    a, b = 1, 2\n",
        "    for i in range(3, n + 1):\n",
        "        a, b = b, a + b\n",
        "    return b\n",
        "n = 5\n",
        "print(f\"Binary strings of length {n} without consecutive 1's: {count_binary_strings(n)}\")\n"
      ],
      "metadata": {
        "colab": {
          "base_uri": "https://localhost:8080/"
        },
        "id": "qJVf2ycCDu-n",
        "outputId": "7a057fa9-8a97-462a-8b1c-cacffd7a2599"
      },
      "execution_count": null,
      "outputs": [
        {
          "output_type": "stream",
          "name": "stdout",
          "text": [
            "Binary strings of length 5 without consecutive 1's: 8\n"
          ]
        }
      ]
    },
    {
      "cell_type": "code",
      "source": [
        "#49. Function to find the smallest number whose digits multiply to n\n",
        "def smallest_number_with_digits_product(n):\n",
        "    if n == 0:\n",
        "        return 10\n",
        "    if n == 1:\n",
        "        return 1\n",
        "\n",
        "    digits = []\n",
        "    for i in range(9, 1, -1):\n",
        "        while n % i == 0:\n",
        "            digits.append(i)\n",
        "            n //= i\n",
        "\n",
        "    if n > 1:\n",
        "        return -1\n",
        "\n",
        "    digits.sort()\n",
        "    return int(\"\".join(map(str, digits)))\n",
        "n = 36\n",
        "print(f\"The smallest number whose digits multiply to {n} is {smallest_number_with_digits_product(n)}\")\n"
      ],
      "metadata": {
        "colab": {
          "base_uri": "https://localhost:8080/"
        },
        "id": "eau-rIDVD1oQ",
        "outputId": "b071abae-7f19-43d0-a995-079f47d8ef22"
      },
      "execution_count": null,
      "outputs": [
        {
          "output_type": "stream",
          "name": "stdout",
          "text": [
            "The smallest number whose digits multiply to 36 is 49\n"
          ]
        }
      ]
    },
    {
      "cell_type": "code",
      "source": [
        "# Function to draw a circle without floating point arithmetic\n",
        "import matplotlib.pyplot as plt\n",
        "def draw_circle(radius):\n",
        "    x = 0\n",
        "    y = radius\n",
        "    d = 3 - 2 * radius\n",
        "    points = []\n",
        "\n",
        "    while x <= y:\n",
        "        points.extend([\n",
        "            (x, y), (y, x), (-x, y), (-y, x),\n",
        "            (x, -y), (y, -x), (-x, -y), (-y, -x)\n",
        "        ])\n",
        "        x += 1\n",
        "        if d < 0:\n",
        "            d += 4 * x + 6\n",
        "        else:\n",
        "            y -= 1\n",
        "            d += 4 * (x - y) + 10\n",
        "\n",
        "    points = list(set(points))\n",
        "    x_vals, y_vals = zip(*points)\n",
        "\n",
        "    plt.plot(x_vals, y_vals, 'bo')\n",
        "    plt.gca().set_aspect('equal', adjustable='box')\n",
        "    plt.show()\n",
        "radius = 10\n",
        "draw_circle(radius)"
      ],
      "metadata": {
        "colab": {
          "base_uri": "https://localhost:8080/",
          "height": 430
        },
        "id": "WN8aE36dD-iA",
        "outputId": "db1589b4-9f64-4602-d991-9d63e834e237"
      },
      "execution_count": null,
      "outputs": [
        {
          "output_type": "display_data",
          "data": {
            "text/plain": [
              "<Figure size 640x480 with 1 Axes>"
            ],
            "image/png": "[encoded data removed]"
          },
          "metadata": {}
        }
      ]
    }
  ]
}
