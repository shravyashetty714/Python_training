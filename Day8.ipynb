{
  "nbformat": 4,
  "nbformat_minor": 0,
  "metadata": {
    "colab": {
      "provenance": [],
      "authorship_tag": "ABX9TyO5U2a40tgJLc8GgejFYuM6",
      "include_colab_link": true
    },
    "kernelspec": {
      "name": "python3",
      "display_name": "Python 3"
    },
    "language_info": {
      "name": "python"
    }
  },
  "cells": [
    {
      "cell_type": "markdown",
      "metadata": {
        "id": "view-in-github",
        "colab_type": "text"
      },
      "source": [
        "<a href=\"https://colab.research.google.com/github/shravyashetty714/Python_training/blob/main/Day8.ipynb\" target=\"_parent\"><img src=\"https://colab.research.google.com/assets/colab-badge.svg\" alt=\"Open In Colab\"/></a>"
      ]
    },
    {
      "cell_type": "code",
      "execution_count": null,
      "metadata": {
        "id": "y2fPOjHj0c8Q",
        "colab": {
          "base_uri": "https://localhost:8080/"
        },
        "outputId": "98a1c479-c10c-4a50-fec6-ead2b42cec1f"
      },
      "outputs": [
        {
          "output_type": "stream",
          "name": "stdout",
          "text": [
            "6\n"
          ]
        }
      ],
      "source": [
        "#finding generic root\n",
        "def generic(n):\n",
        "  while 1:\n",
        "    sum=0\n",
        "    while n>0:\n",
        "      d=n%10\n",
        "      sum += d\n",
        "      n//=10\n",
        "    if sum<10:\n",
        "      return sum\n",
        "    n=sum\n",
        "n=78\n",
        "print(generic(n))"
      ]
    },
    {
      "cell_type": "code",
      "source": [
        "# Function to check if a number is a perfect square\n",
        "def perfectsquare(num):\n",
        "    if num<0:\n",
        "      return False\n",
        "    m=num**0.5\n",
        "    return m*m==num\n",
        "start=20\n",
        "end=30\n",
        "for i in range(start, end + 1):\n",
        "    if perfectsquare(i):\n",
        "        print(i)"
      ],
      "metadata": {
        "colab": {
          "base_uri": "https://localhost:8080/"
        },
        "id": "sUEkF3NU6_8R",
        "outputId": "98012944-3018-4302-d4dd-81c1f76e19fa"
      },
      "execution_count": null,
      "outputs": [
        {
          "output_type": "stream",
          "name": "stdout",
          "text": [
            "21\n",
            "22\n",
            "25\n",
            "27\n",
            "30\n"
          ]
        }
      ]
    },
    {
      "cell_type": "code",
      "source": [
        "#power of 2 or not\n",
        "def pow(n):\n",
        "  if n>0 and (n&(n-1))==0:\n",
        "    print(\"Pow of 2\")\n",
        "  else:\n",
        "    print(\"Not pow of 2\")\n",
        "pow(16)\n"
      ],
      "metadata": {
        "id": "JRqQ26N1CQ3o"
      },
      "execution_count": null,
      "outputs": []
    },
    {
      "cell_type": "code",
      "source": [
        "#harshad\n",
        "def harshed(n):\n",
        "  org_n=n\n",
        "  sum=0\n",
        "  while n>0:\n",
        "    sum+=n%10\n",
        "    n//=10\n",
        "  if org_n%sum==0:\n",
        "    return True\n",
        "  else:\n",
        "    return False\n",
        "start= 30\n",
        "end= 40\n",
        "for n in range (start,end+1):\n",
        "  if harshed(n):\n",
        "    print(n)"
      ],
      "metadata": {
        "colab": {
          "base_uri": "https://localhost:8080/"
        },
        "id": "pvAedBMoGGM0",
        "outputId": "2e13f557-196b-4a92-fc58-407518d0880d"
      },
      "execution_count": null,
      "outputs": [
        {
          "output_type": "stream",
          "name": "stdout",
          "text": [
            "30\n",
            "36\n",
            "40\n"
          ]
        }
      ]
    },
    {
      "cell_type": "code",
      "source": [],
      "metadata": {
        "id": "VvXTR6dbPAKc"
      },
      "execution_count": null,
      "outputs": []
    }
  ]
}