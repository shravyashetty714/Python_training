{
  "nbformat": 4,
  "nbformat_minor": 0,
  "metadata": {
    "colab": {
      "provenance": [],
      "authorship_tag": "ABX9TyPZJDMlva8Q8lv0XB9cfxmw",
      "include_colab_link": true
    },
    "kernelspec": {
      "name": "python3",
      "display_name": "Python 3"
    },
    "language_info": {
      "name": "python"
    }
  },
  "cells": [
    {
      "cell_type": "markdown",
      "metadata": {
        "id": "view-in-github",
        "colab_type": "text"
      },
      "source": [
        "<a href=\"https://colab.research.google.com/github/shravyashetty714/Python_training/blob/main/Arraysop.ipynb\" target=\"_parent\"><img src=\"https://colab.research.google.com/assets/colab-badge.svg\" alt=\"Open In Colab\"/></a>"
      ]
    },
    {
      "cell_type": "code",
      "execution_count": null,
      "metadata": {
        "colab": {
          "base_uri": "https://localhost:8080/"
        },
        "id": "fO28ikVkUxZ2",
        "outputId": "acb3b320-6c65-4727-c7af-db3283a1ea29"
      },
      "outputs": [
        {
          "output_type": "stream",
          "name": "stdout",
          "text": [
            "what is your name\n"
          ]
        }
      ],
      "source": [
        "print(\"what is your name\")"
      ]
    },
    {
      "cell_type": "code",
      "source": [
        "#reverse string\n",
        "t=\"what is your name\"\n",
        "rev=t[::-1]\n",
        "print(rev)"
      ],
      "metadata": {
        "colab": {
          "base_uri": "https://localhost:8080/"
        },
        "id": "L5Hc3tfJU2L6",
        "outputId": "6c7bff83-9d9a-4bc5-aed3-84a2d773716b"
      },
      "execution_count": null,
      "outputs": [
        {
          "output_type": "stream",
          "name": "stdout",
          "text": [
            "eman ruoy si tahw\n"
          ]
        }
      ]
    },
    {
      "cell_type": "code",
      "source": [
        "#reverse string 2 method\n",
        "t=\"what is your name\"\n",
        "rev=\"\"\n",
        "for i in t:\n",
        "    rev = i + rev\n",
        "print(rev)"
      ],
      "metadata": {
        "colab": {
          "base_uri": "https://localhost:8080/"
        },
        "id": "jEGHnBuxVlTK",
        "outputId": "96c8d523-1ddf-4b78-aeb7-448ae40b9aab"
      },
      "execution_count": null,
      "outputs": [
        {
          "output_type": "stream",
          "name": "stdout",
          "text": [
            "eman ruoy si tahw\n"
          ]
        }
      ]
    },
    {
      "cell_type": "code",
      "source": [
        "t = \"what is your name\"\n",
        "k = 0\n",
        "j = 0\n",
        "for i in range(len(t)):\n",
        "    if t[i] == ' ' or i == len(t) - 1:\n",
        "        word = t[j:k]\n",
        "        if len(word) > 1:\n",
        "            word = 'at' + word[1:-1] + '#'\n",
        "        elif len(word) == 1:\n",
        "            word = 'at'\n",
        "        print(word, end=' ')\n",
        "        k = j + 1\n",
        "    j += 1"
      ],
      "metadata": {
        "colab": {
          "base_uri": "https://localhost:8080/"
        },
        "id": "j-gelHj7V6tC",
        "outputId": "b4ba6cfc-1f5a-400c-8d97-d05a15f46601"
      },
      "execution_count": null,
      "outputs": [
        {
          "output_type": "stream",
          "name": "stdout",
          "text": [
            "@ha# @# @ou# @am#\n"
          ]
        }
      ]
    },
    {
      "cell_type": "code",
      "source": [
        "s = \"what is your name\"\n",
        "words = s.split()\n",
        "new = []\n",
        "for w in words:\n",
        "    count = len(w)\n",
        "    new_w = w[:-1] + str(count)\n",
        "    new.append(new_w)\n",
        "r = \" \".join(new)\n",
        "print(r)"
      ],
      "metadata": {
        "colab": {
          "base_uri": "https://localhost:8080/"
        },
        "id": "ucUqwXmiYwth",
        "outputId": "0d0d67a8-ae4c-45ad-863b-c0196f34f258"
      },
      "execution_count": null,
      "outputs": [
        {
          "output_type": "stream",
          "name": "stdout",
          "text": [
            "wha4 i2 you4 nam4\n"
          ]
        }
      ]
    },
    {
      "cell_type": "code",
      "source": [
        "t=\"what is your name\"\n",
        "k=0\n",
        "j=0\n",
        "for i in range(len(t)):\n",
        "    if t[i]==' ' or i==len(t)-1:\n",
        "      for m in range(j,k-1,-1):\n",
        "        print(t[m],end='')\n",
        "      print(' ',end='')\n",
        "      k=j+1\n",
        "    j+=1"
      ],
      "metadata": {
        "colab": {
          "base_uri": "https://localhost:8080/"
        },
        "id": "0uXFoCpYdZx7",
        "outputId": "bc0c2d29-1608-4a85-d3f3-c09a0575b8cc"
      },
      "execution_count": null,
      "outputs": [
        {
          "output_type": "stream",
          "name": "stdout",
          "text": [
            " tahw  si  ruoy eman "
          ]
        }
      ]
    },
    {
      "cell_type": "code",
      "source": [
        "s = \"what is your name\"\n",
        "w= s.split()\n",
        "new = []\n",
        "for i in w:\n",
        "  if len(w)>1:\n",
        "    new_w = i[-1] + i[1:-1] + i[0]\n",
        "    new.append(new_w)\n",
        "  else:\n",
        "    new_w=i\n",
        "r = \" \".join(new)\n",
        "print(r)"
      ],
      "metadata": {
        "colab": {
          "base_uri": "https://localhost:8080/"
        },
        "id": "pIW2QBN5gNLp",
        "outputId": "5a444b28-3674-4073-8144-eda55e412448"
      },
      "execution_count": null,
      "outputs": [
        {
          "output_type": "stream",
          "name": "stdout",
          "text": [
            "thaw si rouy eamn\n"
          ]
        }
      ]
    },
    {
      "cell_type": "code",
      "source": [
        "l = \"what is your name\"\n",
        "k = 0\n",
        "for i in range(len(l)):\n",
        "    if k==0:\n",
        "      print('@',end='')\n",
        "      k+=1\n",
        "    elif l[i]==' ':\n",
        "      print('\\b#',end=' ')\n",
        "      k=0\n",
        "    else:\n",
        "      print(l[i],end='')\n",
        "      k+=1"
      ],
      "metadata": {
        "colab": {
          "base_uri": "https://localhost:8080/"
        },
        "id": "rPXk3wVMjVAp",
        "outputId": "f8dd8863-4a33-4f11-e754-784a3d32582c"
      },
      "execution_count": null,
      "outputs": [
        {
          "output_type": "stream",
          "name": "stdout",
          "text": [
            "@hat\b# @s\b# @our\b# @ame"
          ]
        }
      ]
    },
    {
      "cell_type": "code",
      "source": [
        "t=\"what is your name\"\n",
        "start=0\n",
        "new=[]\n",
        "for w in words:\n",
        "  i,j=0,len(w)-1\n",
        "  count=len(w)\n",
        "  nw=w[start:j]+str(count)\n",
        "  new.append(nw)\n",
        "r=\" \".join(new)\n",
        "print(r)"
      ],
      "metadata": {
        "colab": {
          "base_uri": "https://localhost:8080/"
        },
        "id": "0ZsJIiFArcRz",
        "outputId": "65a701ab-d21a-4b2b-9c12-a54646a98b14"
      },
      "execution_count": null,
      "outputs": [
        {
          "output_type": "stream",
          "name": "stdout",
          "text": [
            "wha4 i2 you4 nam4\n"
          ]
        }
      ]
    },
    {
      "cell_type": "code",
      "source": [
        "l=\"what is your name\"\n",
        "i,j=0,0\n",
        "for i in range(len(l)):\n",
        "  if l[i]==' ' or i==len(l)-1:\n",
        "    for m in range(i,j-1,-1):\n",
        "      print(l[m],end='')\n",
        "    print(' ',end='')\n",
        "    j=i+1\n",
        "  i+=1"
      ],
      "metadata": {
        "id": "rp7HgSdtx7eW",
        "colab": {
          "base_uri": "https://localhost:8080/"
        },
        "outputId": "b9538003-4224-4e3e-f7fa-5c497f8b9c77"
      },
      "execution_count": null,
      "outputs": [
        {
          "output_type": "stream",
          "name": "stdout",
          "text": [
            " tahw  si  ruoy eman "
          ]
        }
      ]
    },
    {
      "cell_type": "code",
      "source": [
        "#print each word in reverse\n",
        "t=\"what is your name\"\n",
        "words=t.split()\n",
        "new=[]\n",
        "for w in words:\n",
        "  new_word=w[-1]+w[1:-1]+w[0]\n",
        "  new.append(new_word)\n",
        "r=\" \".join(new)\n",
        "print(r)\n"
      ],
      "metadata": {
        "colab": {
          "base_uri": "https://localhost:8080/"
        },
        "id": "vRmNMuXW7lFl",
        "outputId": "5a1318f6-8ada-488c-889b-e2eb2f4c7475"
      },
      "execution_count": null,
      "outputs": [
        {
          "output_type": "stream",
          "name": "stdout",
          "text": [
            "thaw si rouy eamn\n"
          ]
        }
      ]
    },
    {
      "cell_type": "code",
      "source": [
        "#reverse each word in reverse using 2 pointer approach\n",
        "l=\"what is your name\"\n",
        "i,j=0,0\n",
        "for i in range(len(l)):\n",
        "  if l[i]==' ' or i==len(l)-1:\n",
        "    for m in range(i,j-1,-1):\n",
        "      print(l[m],end='')\n",
        "    print(' ',end='')\n",
        "    j=i+1\n",
        "  i+=1"
      ],
      "metadata": {
        "colab": {
          "base_uri": "https://localhost:8080/"
        },
        "id": "u4UdAxnDaQw4",
        "outputId": "c432bd6a-3bf8-4f53-81aa-2bec46263edb"
      },
      "execution_count": null,
      "outputs": [
        {
          "output_type": "stream",
          "name": "stdout",
          "text": [
            " tahw  si  ruoy eman "
          ]
        }
      ]
    },
    {
      "cell_type": "code",
      "source": [
        "#program to swap the first and last word of each word\n",
        "t=\"what is your name\"\n",
        "words=t.split()\n",
        "new=[]\n",
        "for w in words:\n",
        "  new_word=w[-1]+w[1:-1]+w[0]\n",
        "  new.append(new_word)\n",
        "r=\" \".join(new)\n",
        "print(r)\n"
      ],
      "metadata": {
        "colab": {
          "base_uri": "https://localhost:8080/"
        },
        "id": "05eMXZzaaUN3",
        "outputId": "01c75af1-6c23-4a2a-f454-63e1376140e8"
      },
      "execution_count": null,
      "outputs": [
        {
          "output_type": "stream",
          "name": "stdout",
          "text": [
            "thaw si rouy eamn\n"
          ]
        }
      ]
    },
    {
      "cell_type": "code",
      "source": [
        "#program to swap the first and last word of each word using 2 pointer method\n",
        "l='what is your name'\n",
        "l=list(l)\n",
        "j=0\n",
        "for i in range(len(l)):\n",
        "  if l[i]==' ':\n",
        "    l[j],l[i-1]=l[i-1],l[j]\n",
        "    j=i+1\n",
        "else:\n",
        "  l[j],l[i-1]=l[i-1],l[j]\n",
        "for i in l:\n",
        "  print(i,end='')"
      ],
      "metadata": {
        "colab": {
          "base_uri": "https://localhost:8080/"
        },
        "id": "TDcglDDraWMG",
        "outputId": "0652f903-946b-4d69-b408-2888d806dd51"
      },
      "execution_count": null,
      "outputs": [
        {
          "output_type": "stream",
          "name": "stdout",
          "text": [
            "thaw si rouy mane"
          ]
        }
      ]
    },
    {
      "cell_type": "code",
      "source": [
        "#thaw si rouy eamn\n",
        "l='what is your name'\n",
        "l=list(l)\n",
        "j=0\n",
        "for i in range(len(l)):\n",
        "  if l[i]==' ':\n",
        "    l[j],l[i-1]=l[i-1],l[j]\n",
        "    j=i+1\n",
        "else:\n",
        "  l[j],l[i-1]=l[i-1],l[j]\n",
        "for i in l:\n",
        "  print(i,end='')"
      ],
      "metadata": {
        "colab": {
          "base_uri": "https://localhost:8080/"
        },
        "id": "0-n9I-7pacqH",
        "outputId": "04aa79b3-91c7-4cc1-a92a-6d95eb2f0f55"
      },
      "execution_count": null,
      "outputs": [
        {
          "output_type": "stream",
          "name": "stdout",
          "text": [
            "thaw si rouy mane"
          ]
        }
      ]
    },
    {
      "cell_type": "code",
      "source": [
        "#hwta si oyru anem\n",
        "def printr(l):\n",
        "  l=list(l)\n",
        "  for i in range(1,len(l),2):\n",
        "    l[i-1],l[i]=l[i],l[i-1]\n",
        "  return l\n",
        "l='what is your name'\n",
        "l1=[]\n",
        "c=''\n",
        "for i in l:\n",
        "  if i==' ':\n",
        "    l1.append(c)\n",
        "    c=''\n",
        "  else:\n",
        "    c+=i\n",
        "else:\n",
        "  l1.append(c)\n",
        "print(l1)\n",
        "for i in l1:\n",
        "  x=printr(i)\n",
        "  for j in x:\n",
        "    print(j,end='')\n",
        "  print(' ',end='')"
      ],
      "metadata": {
        "colab": {
          "base_uri": "https://localhost:8080/"
        },
        "id": "hIYp9Fyga6YH",
        "outputId": "7033bb2c-76a7-446e-e2c8-cfd2c62455c5"
      },
      "execution_count": null,
      "outputs": [
        {
          "output_type": "stream",
          "name": "stdout",
          "text": [
            "['what', 'is', 'your', 'name']\n",
            "hwta si oyru anem "
          ]
        }
      ]
    },
    {
      "cell_type": "code",
      "source": [
        "#w2a4 i2 y2r4 n2m4\n",
        "l='what is your name'\n",
        "j=1\n",
        "for i in range(len(l)):\n",
        "  if l[i]==' ':\n",
        "    j=1\n",
        "    print(' ',end='')\n",
        "  else:\n",
        "    if j%2==0:\n",
        "      print(j,end='')\n",
        "    else:\n",
        "      print(l[i],end='')\n",
        "    j+=1"
      ],
      "metadata": {
        "colab": {
          "base_uri": "https://localhost:8080/"
        },
        "id": "q3f63l3Md5wX",
        "outputId": "d09209e6-3847-41ee-d204-cb16918af024"
      },
      "execution_count": null,
      "outputs": [
        {
          "output_type": "stream",
          "name": "stdout",
          "text": [
            "w2a4 i2 y2u4 n2m4"
          ]
        }
      ]
    },
    {
      "cell_type": "code",
      "source": [
        "#whAt Is yOUr nAmE\n",
        "for i in l:\n",
        "  if i in 'aeiou':\n",
        "    print(chr(ord(i)-32),end='')\n",
        "  else:\n",
        "    print(i,end='')"
      ],
      "metadata": {
        "colab": {
          "base_uri": "https://localhost:8080/"
        },
        "id": "LmdVDQlFitzF",
        "outputId": "60c4b480-dc50-4395-a1ed-c84e61f0ba12"
      },
      "execution_count": null,
      "outputs": [
        {
          "output_type": "stream",
          "name": "stdout",
          "text": [
            "whAt Is yOUr nAmE"
          ]
        }
      ]
    },
    {
      "cell_type": "code",
      "source": [
        "#whEt Os yUAr nEmI\n",
        "v=['a','e','i','o','u']\n",
        "for i in l:\n",
        "  if i in v:\n",
        "    print(chr(ord(v[(v.index(i)+1)%5])-32),end='')\n",
        "  else:\n",
        "    print(i,end='')"
      ],
      "metadata": {
        "colab": {
          "base_uri": "https://localhost:8080/"
        },
        "id": "omUMXpZmiyW0",
        "outputId": "5b829a7d-c287-40e2-d491-d333fd07a54a"
      },
      "execution_count": null,
      "outputs": [
        {
          "output_type": "stream",
          "name": "stdout",
          "text": [
            "whEt Os yUAr nEmI"
          ]
        }
      ]
    },
    {
      "cell_type": "code",
      "source": [
        "#vgAu It xOvs mAnf\n",
        "l='what is your name'\n",
        "v=['a','e','i','o','u']\n",
        "vv=0\n",
        "for i in range (len(l)):\n",
        "  if l[i]==' ':\n",
        "    print(' ',end='')\n",
        "    vv=0\n",
        "  elif l[i] in v and vv==0:\n",
        "    print(chr(ord(l[i])-32),end='')\n",
        "    vv=1\n",
        "  elif vv==0:\n",
        "    print(chr(ord(l[i])-1),end='')\n",
        "  else:\n",
        "    print(chr(ord(l[i])+1),end='')"
      ],
      "metadata": {
        "colab": {
          "base_uri": "https://localhost:8080/"
        },
        "id": "8DoHak12i1_z",
        "outputId": "44013384-6aba-4a7f-de32-b834031fdeed"
      },
      "execution_count": null,
      "outputs": [
        {
          "output_type": "stream",
          "name": "stdout",
          "text": [
            "vgAu It xOvs mAnf"
          ]
        }
      ]
    },
    {
      "cell_type": "code",
      "source": [
        "l='what is your name'\n",
        "l=list(map(str,l.split(' ')))\n",
        "m=min(l)\n",
        "for i in range(len(m)):\n",
        "  print(''.join([n[i] for n in l]),end=' ')"
      ],
      "metadata": {
        "colab": {
          "base_uri": "https://localhost:8080/"
        },
        "id": "zv8t_xWrnWrU",
        "outputId": "d4b0726b-45cf-48c9-a75d-a165392dcf81"
      },
      "execution_count": null,
      "outputs": [
        {
          "output_type": "stream",
          "name": "stdout",
          "text": [
            "wiyn hsoa "
          ]
        }
      ]
    }
  ]
}