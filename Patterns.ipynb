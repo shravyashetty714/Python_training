{
  "cells": [
    {
      "cell_type": "markdown",
      "metadata": {
        "id": "view-in-github",
        "colab_type": "text"
      },
      "source": [
        "<a href=\"https://colab.research.google.com/github/shravyashetty714/Python_training/blob/main/Patterns.ipynb\" target=\"_parent\"><img src=\"https://colab.research.google.com/assets/colab-badge.svg\" alt=\"Open In Colab\"/></a>"
      ]
    },
    {
      "cell_type": "code",
      "execution_count": null,
      "metadata": {
        "colab": {
          "base_uri": "https://localhost:8080/"
        },
        "id": "vNBwc8pWKsGs",
        "outputId": "8d853861-10ff-4e72-8b26-32f7188633e4"
      },
      "outputs": [
        {
          "name": "stdout",
          "output_type": "stream",
          "text": [
            "*****\n",
            "*****\n",
            "*****\n",
            "*****\n",
            "*****\n"
          ]
        }
      ],
      "source": [
        "def pat1(n):\n",
        "  for i in range(n):\n",
        "    for j in range(n):\n",
        "      if(j==0 or (i-j==0 and i+j>=n-1) or (i+j==n-1 and i-j==) )\n",
        "        print(\"*\",end=\"\")\n",
        "      else:\n",
        "        print(\"\",end=\"\")\n",
        "    print()\n",
        "pat1(5)"
      ]
    },
    {
      "cell_type": "code",
      "execution_count": null,
      "metadata": {
        "colab": {
          "base_uri": "https://localhost:8080/"
        },
        "id": "Sen6Pzsn-695",
        "outputId": "55c6ff60-cae1-46a0-b2e7-a40fb3de60c6"
      },
      "outputs": [
        {
          "name": "stdout",
          "output_type": "stream",
          "text": [
            "*         \n",
            "* *       \n",
            "* * *     \n",
            "* *       \n",
            "*         \n"
          ]
        }
      ],
      "source": [
        "n=5\n",
        "for i in range(n):\n",
        "  for j in range(n):\n",
        "    if i>=j and i+j<=n-1:\n",
        "      print('*',end=' ')\n",
        "    else:\n",
        "      print('  ',end='')\n",
        "  print()"
      ]
    },
    {
      "cell_type": "code",
      "execution_count": null,
      "metadata": {
        "colab": {
          "base_uri": "https://localhost:8080/"
        },
        "id": "kWmxH3nCS8C5",
        "outputId": "caf2d2a6-5c18-49f4-c73c-1ae572736502"
      },
      "outputs": [
        {
          "name": "stdout",
          "output_type": "stream",
          "text": [
            "          \n",
            "          \n",
            "    *     \n",
            "  * * *   \n",
            "* * * * * \n"
          ]
        }
      ],
      "source": [
        "n=5\n",
        "for i in range(n):\n",
        "  for j in range(n):\n",
        "    if i+j>=n-1 and i>=j:\n",
        "      print('*',end=' ')\n",
        "    else:\n",
        "      print('  ',end='')\n",
        "  print()"
      ]
    },
    {
      "cell_type": "code",
      "execution_count": null,
      "metadata": {
        "colab": {
          "base_uri": "https://localhost:8080/"
        },
        "id": "uoEwBcLkTKgZ",
        "outputId": "b3feed2c-676f-4e93-9663-ed3e010b0b58"
      },
      "outputs": [
        {
          "name": "stdout",
          "output_type": "stream",
          "text": [
            "          \n",
            "          \n",
            "    *     \n",
            "  *       \n",
            "*         \n"
          ]
        }
      ],
      "source": [
        "n=5\n",
        "for i in range(n):\n",
        "  for j in range(n):\n",
        "    if i+j<=n-1 and i>=j:\n",
        "      print('*',end=' ')\n",
        "    else:\n",
        "      print('  ',end='')\n",
        "  print()"
      ]
    },
    {
      "cell_type": "code",
      "execution_count": null,
      "metadata": {
        "colab": {
          "base_uri": "https://localhost:8080/"
        },
        "id": "OgEnUBQDP1c7",
        "outputId": "0c8b0354-fb4e-48e0-d24e-422ea3076c64"
      },
      "outputs": [
        {
          "name": "stdout",
          "output_type": "stream",
          "text": [
            "A                 \n",
            "B B               \n",
            "C C C             \n",
            "D D D D           \n",
            "E E E E E         \n",
            "F F F F           \n",
            "G G G             \n",
            "H H               \n",
            "A                 \n"
          ]
        }
      ],
      "source": [
        "n=9\n",
        "for i in range(n):\n",
        "  for j in range(n):\n",
        "    if i>=j and i+j<=n-1:\n",
        "      print(chr(65+(i%8)),end=' ')\n",
        "    else:\n",
        "      print(' ',end=' ')\n",
        "  print()"
      ]
    },
    {
      "cell_type": "code",
      "execution_count": null,
      "metadata": {
        "colab": {
          "base_uri": "https://localhost:8080/"
        },
        "id": "bDc_8GPrfJow",
        "outputId": "859398ca-4ad3-4313-8362-2341a9005665"
      },
      "outputs": [
        {
          "name": "stdout",
          "output_type": "stream",
          "text": [
            "D             \n",
            "D C           \n",
            "D C B         \n",
            "D C B A       \n",
            "D C B         \n",
            "D C           \n",
            "D             \n"
          ]
        }
      ],
      "source": [
        "n=7\n",
        "for i in range(n):\n",
        "  for j in range(n):\n",
        "    if i>=j and i+j<=n-1:\n",
        "      print(chr(65+(n//2-j)),end=' ')\n",
        "    else:\n",
        "      print(' ',end=' ')\n",
        "  print()"
      ]
    },
    {
      "cell_type": "code",
      "execution_count": null,
      "metadata": {
        "colab": {
          "base_uri": "https://localhost:8080/"
        },
        "id": "7LDzHG6t_MJE",
        "outputId": "6bdfa7c2-7e39-4e87-915a-924a06e1cc75"
      },
      "outputs": [
        {
          "name": "stdout",
          "output_type": "stream",
          "text": [
            "A                     \n",
            "A B                   \n",
            "A B C                 \n",
            "A B C D               \n",
            "A B C D E             \n",
            "A B C D E F           \n",
            "A B C D E             \n",
            "A B C D               \n",
            "A B C                 \n",
            "A B                   \n",
            "A                     \n"
          ]
        }
      ],
      "source": [
        "n=11\n",
        "for i in range(n):\n",
        "  for j in range(n):\n",
        "    if i>=j and i+j<=n-1:\n",
        "      print(chr(65+j),end=' ')\n",
        "    else:\n",
        "      print(' ',end=' ')\n",
        "  print()"
      ]
    },
    {
      "cell_type": "code",
      "execution_count": null,
      "metadata": {
        "colab": {
          "background_save": true,
          "base_uri": "https://localhost:8080/"
        },
        "id": "08DMmQ_wfOdf",
        "outputId": "9a97191e-1547-415d-c9b4-3c323c498206"
      },
      "outputs": [
        {
          "name": "stdout",
          "output_type": "stream",
          "text": [
            "2         \n",
            "2 1       \n",
            "2 1 0     \n",
            "2 1       \n",
            "2         \n"
          ]
        }
      ],
      "source": [
        "n=11\n",
        "for i in range(n):\n",
        "  for j in range(n):\n",
        "    if i>=j and i+j<=n-1:\n",
        "      print(n//2-j,end=' ')\n",
        "    else:\n",
        "      print(' ',end=' ')\n",
        "  print()"
      ]
    },
    {
      "cell_type": "code",
      "execution_count": null,
      "metadata": {
        "colab": {
          "base_uri": "https://localhost:8080/"
        },
        "id": "w6BPEXwYfTXf",
        "outputId": "2a1e6f01-a5ae-4f3f-fa57-d54992155384"
      },
      "outputs": [
        {
          "name": "stdout",
          "output_type": "stream",
          "text": [
            "8                 \n",
            "7 7               \n",
            "6 6 6             \n",
            "5 5 5 5           \n",
            "4 4 4 4 4         \n",
            "3 3 3 3           \n",
            "2 2 2             \n",
            "1 1               \n",
            "0                 \n"
          ]
        }
      ],
      "source": [
        "n=9\n",
        "for i in range(n):\n",
        "  for j in range(n):\n",
        "    if i>=j and i+j<=n-1:\n",
        "      print(n-1-i,end=' ')\n",
        "    else:\n",
        "      print(' ',end=' ')\n",
        "  print()"
      ]
    },
    {
      "cell_type": "code",
      "execution_count": null,
      "metadata": {
        "colab": {
          "base_uri": "https://localhost:8080/"
        },
        "id": "oiisMXTNfVyH",
        "outputId": "f30dd063-fd58-4738-feb0-2789208ed59b"
      },
      "outputs": [
        {
          "name": "stdout",
          "output_type": "stream",
          "text": [
            "                    * \n",
            "                  * * \n",
            "                * * * \n",
            "              * * * * \n",
            "            * * * * * \n",
            "          * * * * * * \n",
            "            * * * * * \n",
            "              * * * * \n",
            "                * * * \n",
            "                  * * \n",
            "                    * \n"
          ]
        }
      ],
      "source": [
        "n=11\n",
        "for i in range(n):\n",
        "  for j in range(n):\n",
        "    if i-j<=0 and i+j>=n-1:\n",
        "      print('*',end=' ')\n",
        "    else:\n",
        "      print(' ',end=' ')\n",
        "  print()"
      ]
    },
    {
      "cell_type": "code",
      "execution_count": null,
      "metadata": {
        "colab": {
          "base_uri": "https://localhost:8080/"
        },
        "id": "TduvPyudfWhH",
        "outputId": "fda19fb1-3990-4265-df5a-bebe5adf53f2"
      },
      "outputs": [
        {
          "name": "stdout",
          "output_type": "stream",
          "text": [
            "                      \n",
            "                      \n",
            "                      \n",
            "                      \n",
            "                      \n",
            "          *           \n",
            "        * * *         \n",
            "      * * * * *       \n",
            "    * * * * * * *     \n",
            "  * * * * * * * * *   \n",
            "* * * * * * * * * * * \n"
          ]
        }
      ],
      "source": [
        "n=11\n",
        "for i in range(n):\n",
        "  for j in range(n):\n",
        "    if i>=j and i+j>=n-1:\n",
        "      print('*',end=' ')\n",
        "    else:\n",
        "      print(' ',end=' ')\n",
        "  print()"
      ]
    },
    {
      "cell_type": "code",
      "execution_count": null,
      "metadata": {
        "colab": {
          "base_uri": "https://localhost:8080/"
        },
        "id": "gW2EFUJqfZsI",
        "outputId": "dd093f47-c682-49d1-efad-c09b45209ff3"
      },
      "outputs": [
        {
          "name": "stdout",
          "output_type": "stream",
          "text": [
            "1                 \n",
            "2 3               \n",
            "4 5 6             \n",
            "7 8 9 10           \n",
            "11 12 13 14 15         \n",
            "16 17 18 19 20 21       \n",
            "22 23 24 25 26 27 28     \n",
            "29 30 31 32 33 34 35 36   \n",
            "37 38 39 40 41 42 43 44 45 \n"
          ]
        }
      ],
      "source": [
        "n=9\n",
        "for i in range(n):\n",
        "  for j in range(n):\n",
        "    if i>=j and i-j<=n-1:\n",
        "      print(i*(i+1)//2+j+1,end=' ')\n",
        "    else:\n",
        "      print(' ',end=' ')\n",
        "  print()"
      ]
    },
    {
      "cell_type": "code",
      "execution_count": null,
      "metadata": {
        "colab": {
          "base_uri": "https://localhost:8080/"
        },
        "id": "cNwLs4inl7_G",
        "outputId": "c2cb0e54-dcf8-4a72-f757-1fd8174e3961"
      },
      "outputs": [
        {
          "name": "stdout",
          "output_type": "stream",
          "text": [
            "45                 \n",
            "44 43               \n",
            "42 41 40             \n",
            "39 38 37 36           \n",
            "35 34 33 32 31         \n",
            "30 29 28 27 26 25       \n",
            "24 23 22 21 20 19 18     \n",
            "17 16 15 14 13 12 11 10   \n",
            "9 8 7 6 5 4 3 2 1 \n"
          ]
        }
      ],
      "source": [
        "n=9\n",
        "for i in range(n):\n",
        "  for j in range(n):\n",
        "    if i>=j and i-j<=n-1:\n",
        "      print(n*(n+1)//2-(i*(i+1)//2+j),end=' ')\n",
        "    else:\n",
        "      print(' ',end=' ')\n",
        "  print()"
      ]
    },
    {
      "cell_type": "code",
      "execution_count": null,
      "metadata": {
        "colab": {
          "base_uri": "https://localhost:8080/"
        },
        "id": "YKC_dQTtrD2G",
        "outputId": "1febfcdf-1640-498a-92d7-f9a8206b74ae"
      },
      "outputs": [
        {
          "name": "stdout",
          "output_type": "stream",
          "text": [
            "*       * \n",
            "  *   *   \n",
            "    *     \n",
            "  *   *   \n",
            "*       * \n"
          ]
        }
      ],
      "source": [
        "n=5\n",
        "for i in range(n):\n",
        "  for j in range(n):\n",
        "      if j==0:\n",
        "        for i in range(n):\n",
        "          for j in range(n):\n",
        "            if j==0:\n",
        "              for i in range(n-i-1):\n",
        "                print('',end=\"\")\n",
        "              else:\n",
        "        print('*',end=' ')\n",
        "      else:\n",
        "        print(' ',end=' ')\n",
        "  print()\n",
        "\n",
        "\n"
      ]
    },
    {
      "cell_type": "code",
      "execution_count": null,
      "metadata": {
        "colab": {
          "base_uri": "https://localhost:8080/"
        },
        "id": "JKCOuQFVxuWN",
        "outputId": "5d6685d5-289e-41d2-aefa-3e341029e792"
      },
      "outputs": [
        {
          "name": "stdout",
          "output_type": "stream",
          "text": [
            "*                 \n",
            "* *               \n",
            "* * *             \n",
            "* * * *           \n",
            "* * * * *         \n",
            "* * * * * *       \n",
            "* * * * * * *     \n",
            "* * * * * * * *   \n",
            "* * * * * * * * * \n"
          ]
        }
      ],
      "source": [
        "#1.\n",
        "n=9\n",
        "for i in range(n):\n",
        "  for j in range(n):\n",
        "    if i-j>=0:\n",
        "      print(\"*\",end=' ')\n",
        "    else:\n",
        "      print(' ',end=' ')\n",
        "  print()"
      ]
    },
    {
      "cell_type": "code",
      "execution_count": null,
      "metadata": {
        "colab": {
          "base_uri": "https://localhost:8080/"
        },
        "id": "dUig2cvat_X0",
        "outputId": "7811625b-069f-413f-a442-47fb8c0fe47b"
      },
      "outputs": [
        {
          "name": "stdout",
          "output_type": "stream",
          "text": [
            "                * \n",
            "              * * \n",
            "            * * * \n",
            "          * * * * \n",
            "        * * * * * \n",
            "      * * * * * * \n",
            "    * * * * * * * \n",
            "  * * * * * * * * \n",
            "* * * * * * * * * \n"
          ]
        }
      ],
      "source": [
        "#2.\n",
        "n=9\n",
        "for i in range(n):\n",
        "  for j in range(n):\n",
        "    if i+j>=n-1:\n",
        "      print(\"*\",end=' ')\n",
        "    else:\n",
        "      print(' ',end=' ')\n",
        "  print()"
      ]
    },
    {
      "cell_type": "code",
      "execution_count": null,
      "metadata": {
        "colab": {
          "base_uri": "https://localhost:8080/"
        },
        "id": "AbcInL6Kw5ct",
        "outputId": "132b3f63-a6ae-4797-dc07-e445050a5641"
      },
      "outputs": [
        {
          "name": "stdout",
          "output_type": "stream",
          "text": [
            "* * * * * * * * * \n",
            "* * * * * * * *   \n",
            "* * * * * * *     \n",
            "* * * * * *       \n",
            "* * * * *         \n",
            "* * * *           \n",
            "* * *             \n",
            "* *               \n",
            "*                 \n"
          ]
        }
      ],
      "source": [
        "#3.\n",
        "n=9\n",
        "for i in range(n):\n",
        "  for j in range(n):\n",
        "    if i+j<=n-1:\n",
        "      print(\"*\",end=' ')\n",
        "    else:\n",
        "      print(' ',end=' ')\n",
        "  print()"
      ]
    },
    {
      "cell_type": "code",
      "execution_count": null,
      "metadata": {
        "colab": {
          "base_uri": "https://localhost:8080/"
        },
        "id": "8RVUZ1mcxN4w",
        "outputId": "4b178f9e-542b-4e15-8839-8920d93d61d4"
      },
      "outputs": [
        {
          "name": "stdout",
          "output_type": "stream",
          "text": [
            "* * * * * * * * * \n",
            "  * * * * * * * * \n",
            "    * * * * * * * \n",
            "      * * * * * * \n",
            "        * * * * * \n",
            "          * * * * \n",
            "            * * * \n",
            "              * * \n",
            "                * \n"
          ]
        }
      ],
      "source": [
        "#2.\n",
        "n=9\n",
        "for i in range(n):\n",
        "  for j in range(n):\n",
        "    if i-j<=0:\n",
        "      print(\"*\",end=' ')\n",
        "    else:\n",
        "      print(' ',end=' ')\n",
        "  print()"
      ]
    },
    {
      "cell_type": "code",
      "execution_count": null,
      "metadata": {
        "colab": {
          "base_uri": "https://localhost:8080/"
        },
        "id": "7BgkiRvMylv9",
        "outputId": "56d9b41c-3307-4508-8bb3-8c0029afe8ad"
      },
      "outputs": [
        {
          "name": "stdout",
          "output_type": "stream",
          "text": [
            "        *         \n",
            "      *   *       \n",
            "    *       *     \n",
            "  *           *   \n",
            "*               * \n",
            "  *               \n",
            "    *           * \n",
            "      *       *   \n",
            "        *   *     \n"
          ]
        }
      ],
      "source": [
        "n=9\n",
        "for i in range(n):\n",
        "  for j in range(n):\n",
        "    if i+j==n//2 or i-j==-(n//2) or i-j==n//2 or i+j==n+5:\n",
        "      print(\"*\",end=' ')\n",
        "    else:\n",
        "      print(' ',end=' ')\n",
        "  print()"
      ]
    },
    {
      "cell_type": "code",
      "execution_count": null,
      "metadata": {
        "colab": {
          "base_uri": "https://localhost:8080/"
        },
        "id": "bAJLCQ7L0JNZ",
        "outputId": "88ea28d1-ea9f-407f-92e4-ae2314846f17"
      },
      "outputs": [
        {
          "name": "stdout",
          "output_type": "stream",
          "text": [
            "        *         \n",
            "      *   *       \n",
            "    *       *     \n",
            "  *           *   \n",
            "*               * \n",
            "  *           *   \n",
            "    *       *     \n",
            "      *   *       \n",
            "        *         \n"
          ]
        }
      ],
      "source": [
        "n = 9\n",
        "for i in range(n):\n",
        "    for j in range(n):\n",
        "        if i + j == n // 2 or i - j == -(n // 2)  or i + j == (n - 1) + (n // 2) or i-j==n//2:\n",
        "            print(\"*\", end=\" \")\n",
        "        else:\n",
        "            print(\" \", end=\" \")\n",
        "    print()\n"
      ]
    },
    {
      "cell_type": "code",
      "execution_count": null,
      "metadata": {
        "colab": {
          "base_uri": "https://localhost:8080/"
        },
        "id": "GVRD36yylyyw",
        "outputId": "c342e9ff-3b88-4261-8ed2-7b24833a0f9c"
      },
      "outputs": [
        {
          "name": "stdout",
          "output_type": "stream",
          "text": [
            "* * * * * * * * * * * * * * * * * * * * * * * * * \n",
            "*                     *   *                     * \n",
            "*                   *       *                   * \n",
            "*                 *           *                 * \n",
            "*               *               *               * \n",
            "*             *                   *             * \n",
            "*           *                       *           * \n",
            "*         *                           *         * \n",
            "*       *                               *       * \n",
            "*     *                                   *     * \n",
            "*   *                                       *   * \n",
            "* *                                           * * \n",
            "*                                               * \n",
            "* *                                           * * \n",
            "*   *                                       *   * \n",
            "*     *                                   *     * \n",
            "*       *                               *       * \n",
            "*         *                           *         * \n",
            "*           *                       *           * \n",
            "*             *                   *             * \n",
            "*               *               *               * \n",
            "*                 *           *                 * \n",
            "*                   *       *                   * \n",
            "*                     *   *                     * \n",
            "* * * * * * * * * * * * * * * * * * * * * * * * * \n"
          ]
        }
      ],
      "source": [
        "n = 25\n",
        "for i in range(n):\n",
        "    for j in range(n):\n",
        "        if i*j==0 or i==n-1 or j==n-1 or i + j == n // 2 or i - j == -(n // 2)  or i + j == (n - 1) + (n // 2) or i-j==n//2:\n",
        "            print(\"*\", end=\" \")\n",
        "        else:\n",
        "            print(\" \", end=\" \")\n",
        "    print()\n"
      ]
    },
    {
      "cell_type": "code",
      "execution_count": null,
      "metadata": {
        "colab": {
          "base_uri": "https://localhost:8080/"
        },
        "id": "4J4t6PSinKSl",
        "outputId": "5400c856-f05e-4c0c-cc78-f39cd047afb3"
      },
      "outputs": [
        {
          "name": "stdout",
          "output_type": "stream",
          "text": [
            "1         \n",
            "1 2       \n",
            "1 2 3     \n",
            "1 2 3 4   \n",
            "1 2 3 4 5 \n"
          ]
        }
      ],
      "source": [
        "n=5\n",
        "for i in range(n):\n",
        "  for j in range(n):\n",
        "    if i-j>=0:\n",
        "      print(j+1,end=' ')\n",
        "    else:\n",
        "      print(' ',end=' ')\n",
        "  print()"
      ]
    },
    {
      "cell_type": "code",
      "execution_count": null,
      "metadata": {
        "colab": {
          "base_uri": "https://localhost:8080/"
        },
        "id": "pgvXS5vy1ZZB",
        "outputId": "1cfb3c0e-b911-41a3-cf99-ce35c77edc22"
      },
      "outputs": [
        {
          "name": "stdout",
          "output_type": "stream",
          "text": [
            "1         \n",
            "2 3       \n",
            "4 5 6     \n",
            "7 8 9 10   \n",
            "11 12 13 14 15 \n"
          ]
        }
      ],
      "source": [
        "n=5\n",
        "for i in range(n):\n",
        "  for j in range(n):\n",
        "    if i-j>=0:\n",
        "      print(i*(i+1)//2+j+1,end=' ')\n",
        "    else:\n",
        "      print(' ',end=' ')\n",
        "  print()"
      ]
    },
    {
      "cell_type": "code",
      "execution_count": null,
      "metadata": {
        "colab": {
          "base_uri": "https://localhost:8080/"
        },
        "id": "EMMC9w5UAV8-",
        "outputId": "7f6741a6-a6d7-4af7-c827-df7f80bb8c92"
      },
      "outputs": [
        {
          "name": "stdout",
          "output_type": "stream",
          "text": [
            "1         \n",
            "2 3       \n",
            "4 5 6     \n",
            "7 8 9 1   \n",
            "2 3 4 5 6 \n"
          ]
        }
      ],
      "source": [
        "n=5\n",
        "num = 1\n",
        "for i in range(n):\n",
        "  for j in range(n):\n",
        "    if i-j>=0:\n",
        "      print(num,end=' ')\n",
        "      num += 1\n",
        "      if num > 9:\n",
        "        num = 1\n",
        "    else:\n",
        "      print(' ',end=' ')\n",
        "  print()"
      ]
    },
    {
      "cell_type": "code",
      "execution_count": null,
      "metadata": {
        "colab": {
          "background_save": true
        },
        "id": "_ADUjGzPHcBh",
        "outputId": "5dcb9d6b-c279-46e2-a385-bbfca7b8b2c1"
      },
      "outputs": [
        {
          "name": "stdout",
          "output_type": "stream",
          "text": [
            "8                 \n",
            "7 7               \n",
            "6 6 6             \n",
            "5 5 5 5           \n",
            "4 4 4 4 4         \n",
            "3 3 3 3           \n",
            "2 2 2             \n",
            "1 1               \n",
            "0                 \n"
          ]
        }
      ],
      "source": []
    }
  ],
  "metadata": {
    "colab": {
      "provenance": [],
      "authorship_tag": "ABX9TyP0tHgKP+MHvRaOm32VJbvR",
      "include_colab_link": true
    },
    "kernelspec": {
      "display_name": "Python 3",
      "name": "python3"
    },
    "language_info": {
      "name": "python"
    }
  },
  "nbformat": 4,
  "nbformat_minor": 0
}